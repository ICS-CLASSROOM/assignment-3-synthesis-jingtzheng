{
  "cells": [
    {
      "cell_type": "markdown",
      "source": [],
      "metadata": {
        "id": "P77jz9TPECQL"
      }
    },
    {
      "cell_type": "markdown",
      "source": [
        "Group: Kayla Yanos and Jing Ting Zheng"
      ],
      "metadata": {
        "id": "B60zaE7KEFIF"
      }
    },
    {
      "cell_type": "markdown",
      "metadata": {
        "id": "qxMg6jdWJWJS"
      },
      "source": [
        "## Final Assignment Overview: Working with Patient Records and Encounter Notes\n",
        "\n",
        "In this final assignment, we’ll focus on patient records related to COVID-19 encounters. Our task is to analyze, process, and transform the data while applying the concepts we’ve covered throughout this course. Here's a detailed breakdown of the assignment:\n",
        "\n",
        "What Are Encounter Notes?\n",
        "An encounter note is a record that captures details about a patient’s visit with a doctor. It includes both structured and semi-structured information that is crucial for understanding the context of the visit. Here’s what an encounter note typically looks like:\n",
        "\n",
        "```\n",
        "AMBULATORY ENCOUNTER NOTE\n",
        "Date of Service: March 2, 2020 15:45-16:30\n",
        "\n",
        "DEMOGRAPHICS:\n",
        "Name: Jeffrey Greenfelder\n",
        "DOB: 1/16/2005\n",
        "Gender: Male\n",
        "Address: 428 Wiza Glen Unit 91, Springfield, Massachusetts 01104\n",
        "Insurance: Guardian\n",
        "MRN: 055ae6fc-7e18-4a39-8058-64082ca6d515\n",
        "\n",
        "PERTINENT MEDICAL HISTORY:\n",
        "- Obesity\n",
        "\n",
        "Recent Visit: Well child visit (2/23/2020)\n",
        "Immunizations: Influenza vaccine (2/23/2020)\n",
        "\n",
        "Recent Baseline (2/23/2020):\n",
        "Height: 155.0 cm\n",
        "Weight: 81.2 kg\n",
        "BMI: 33.8 kg/m² (99.1th percentile)\n",
        "BP: 123/80 mmHg\n",
        "HR: 92/min\n",
        "RR: 13/min\n",
        "\n",
        "SUBJECTIVE:\n",
        "Adolescent patient presents with multiple symptoms including:\n",
        "- Cough\n",
        "- Sore throat\n",
        "- Severe fatigue\n",
        "- Muscle pain\n",
        "- Joint pain\n",
        "- Fever\n",
        "Never smoker. Symptoms began recently.\n",
        "\n",
        "OBJECTIVE:\n",
        "Vitals:\n",
        "Temperature: 39.3°C (102.7°F)\n",
        "Heart Rate: 131.1/min\n",
        "Blood Pressure: 120/73 mmHg\n",
        "Respiratory Rate: 27.6/min\n",
        "O2 Saturation: 75.8% on room air\n",
        "Weight: 81.2 kg\n",
        "\n",
        "Laboratory/Testing:\n",
        "Comprehensive Respiratory Panel:\n",
        "- Influenza A RNA: Negative\n",
        "- Influenza B RNA: Negative\n",
        "- RSV RNA: Negative\n",
        "- Parainfluenza virus 1,2,3 RNA: Negative\n",
        "- Rhinovirus RNA: Negative\n",
        "- Human metapneumovirus RNA: Negative\n",
        "- Adenovirus DNA: Negative\n",
        "- SARS-CoV-2 RNA: Positive\n",
        "\n",
        "ASSESSMENT:\n",
        "1. Suspected COVID-19 with severe symptoms\n",
        "2. Severe hypoxemia requiring immediate intervention\n",
        "3. Tachycardia (HR 131)\n",
        "4. High-grade fever\n",
        "5. Risk factors:\n",
        "   - Obesity (BMI 33.8)\n",
        "   - Adolescent age\n",
        "\n",
        "PLAN:\n",
        "1. Face mask provided for immediate oxygen support\n",
        "2. Infectious disease care plan initiated\n",
        "3. Close monitoring required due to:\n",
        "   - Severe hypoxemia\n",
        "   - Tachycardia\n",
        "   - Age and obesity risk factors\n",
        "4. Parent/patient education on:\n",
        "   - Home isolation protocols\n",
        "   - Warning signs requiring emergency care\n",
        "   - Return precautions\n",
        "5. Follow-up plan:\n",
        "   - Daily monitoring during acute phase\n",
        "   - Virtual check-ins as needed\n",
        "\n",
        "Encounter Duration: 45 minutes\n",
        "Encounter Type: Ambulatory\n",
        "Provider: ID# e2c226c2-3e1e-3d0b-b997-ce9544c10528\n",
        "Facility: 5103c940-0c08-392f-95cd-446e0cea042a\n",
        "```\n",
        "\n",
        "\n",
        "The enocuter contains\n",
        "\n",
        "* General encounter information:\n",
        "\n",
        "  * When the encounter took place: Date and time of the visit.\n",
        "  * Demographics: Patient’s age, gender, and unique medical record identifier.\n",
        "  * Encounter details: The reason for the visit, diagnosis, and any associated costs.\n",
        "\n",
        "\n",
        "* Semi-Structured Notes:\n",
        "\n",
        "These notes mirror how doctors organize their thoughts and observations during an encounter. They generally follow a SOAP format:\n",
        "\n",
        "* Subjective: The patient’s subjective description of their symptoms, feelings, and medical concerns.\n",
        "* Objective: The doctor’s objective findings, including test results, measurements, or physical examination outcomes.\n",
        "* Assessment: The doctor’s evaluation or diagnosis based on subjective and objective information.\n",
        "* Plan: The proposed treatment plan, including medications, follow-ups, or other interventions.\n",
        "\n",
        "While some encounter notes might include additional details, the majority conform to this semi-structured format, making them ideal for analysis and transformation.\n",
        "\n",
        "* Goals for the Assignment\n",
        "\n",
        "1. Transforming Encounter Notes:\n",
        "\n",
        "Using an LLM to convert semi-structured encounter notes into a JSON format that organizes the information into structured fields. The JSON will include details such as demographics, encounter specifics, and the SOAP components of the note. Subsequently, you will need to transform the JSON data into a Parquet file, which is not only suitable for analysis in Spark but also ideal for storage later.\n",
        "Here we will use the ML classificaition to assing the objective and assessment semi-structured fields into standardized, structured fields. The medical taxonomy for this task will be the one provided by the CDC, which defines standard codes for diagnoses, symptoms, procedures, and treatments. This step ensures the structured data aligns with domain-wide medical standards, making it interoperable and ready for deeper analysis.\n",
        "\n",
        "The JSON format should capture the hierachies described in the structure below.\n",
        "\n",
        "\n",
        "\n",
        "\n",
        "2. Basic Analytics and Visualizations:\n",
        "Using Apache Spark, perform comprehensive data analysis on the encounter data and create visualizations that reveal meaningful patterns. Your analysis must include:\n",
        "- COVID-19 Case Demographics: Case breakdown by age ranges ([0-5], [6-10], [11-17], [18-30], [31-50], [51-70], [71+])\n",
        "- Cumulative case count of Covid between the earliest case observed in the dataset and last case observed\n",
        "- Symptoms for all COVID-19 patients versus patients that admitted into the intensive care unit due to COVID.\n",
        "- Rank medications by frequency of prescription\n",
        "- Analyze medication patterns across different demographic groups (e.g., top 3 per age group)\n",
        "- Identify and plot co-morbidity information from the patient records (e.g., hypertension, obesity, prediabetes, etc.) provided in the dataset.\n",
        "- An independent group analysis: You need to develop and execute THREE original analyses that provide meaningful insights about COVID-19 patterns in this dataset. For each analysis:\n",
        "  - Clearly state your analytical question/hypothesis\n",
        "  - Justify why this analysis is valuable\n",
        "  - Show your Spark code and methodology\n",
        "  - Present results with appropriate visualizations\n"
      ]
    },
    {
      "cell_type": "code",
      "execution_count": null,
      "metadata": {
        "id": "rGnjxif1JWJV"
      },
      "outputs": [],
      "source": [
        "# EncounterType:\n",
        "#     code\n",
        "#     description\n",
        "\n",
        "# Encounter:\n",
        "#     date\n",
        "#     time\n",
        "#     provider_id\n",
        "#     facility_id\n",
        "\n",
        "# Address:\n",
        "#     city\n",
        "#     state\n",
        "\n",
        "# Demographics:\n",
        "#     name\n",
        "#     date_of_birth\n",
        "#     age\n",
        "#     gender\n",
        "#     address: Address\n",
        "#     insurance\n",
        "\n",
        "# Condition:\n",
        "#     code\n",
        "#     description\n",
        "\n",
        "# Medication:\n",
        "#     code\n",
        "#     description\n",
        "\n",
        "# Immunization:\n",
        "#     code\n",
        "#     description\n",
        "#     date: date\n",
        "\n",
        "# VitalMeasurement:\n",
        "#     code\n",
        "#     value: float\n",
        "#     unit\n",
        "\n",
        "# BloodPressure:\n",
        "#     systolic: VitalMeasurement\n",
        "#     diastolic: VitalMeasurement\n",
        "\n",
        "# CurrentVitals:\n",
        "#     temperature: VitalMeasurement\n",
        "#     heart_rate: VitalMeasurement\n",
        "#     blood_pressure: BloodPressure\n",
        "#     respiratory_rate: VitalMeasurement\n",
        "#     oxygen_saturation: VitalMeasurement\n",
        "#     weight: VitalMeasurement\n",
        "\n",
        "# BaselineVitals:\n",
        "#     date: date\n",
        "#     height: VitalMeasurement\n",
        "#     weight: VitalMeasurement\n",
        "#     bmi: VitalMeasurement\n",
        "#     bmi_percentile: VitalMeasurement\n",
        "\n",
        "# Vitals:\n",
        "#     current: CurrentVitals\n",
        "#     baseline: BaselineVitals\n",
        "\n",
        "# RespiratoryTest:\n",
        "#     code\n",
        "#     result\n",
        "\n",
        "# RespiratoryPanel:\n",
        "#     influenza_a: RespiratoryTest\n",
        "#     influenza_b: RespiratoryTest\n",
        "#     rsv: RespiratoryTest\n",
        "#     parainfluenza_1: RespiratoryTest\n",
        "#     parainfluenza_2: RespiratoryTest\n",
        "#     parainfluenza_3: RespiratoryTest\n",
        "#     rhinovirus: RespiratoryTest\n",
        "#     metapneumovirus: RespiratoryTest\n",
        "#     adenovirus: RespiratoryTest\n",
        "\n",
        "# Covid19Test:\n",
        "#     code\n",
        "#     description\n",
        "#     result\n",
        "\n",
        "# Laboratory:\n",
        "#     covid19: Covid19Test\n",
        "#     respiratory_panel: RespiratoryPanel\n",
        "\n",
        "# Procedure:\n",
        "#     code\n",
        "#     description\n",
        "#     date: date\n",
        "#     reasonCode\n",
        "#     reasonDescription\n",
        "\n",
        "# CarePlan:\n",
        "#     code\n",
        "#     description\n",
        "#     start: date\n",
        "#     stop: date\n",
        "#     reasonCode\n",
        "#     reasonDescription\n",
        "\n",
        "# PatientRecord:\n",
        "#     encounter: Encounter\n",
        "#     demographics: Demographics\n",
        "#     conditions: List[Condition]\n",
        "#     medications: List[Medication]\n",
        "#     immunizations: List[Immunization]\n",
        "#     vitals: Vitals\n",
        "#     laboratory: Laboratory\n",
        "#     procedures: List[Procedure]\n"
      ]
    },
    {
      "cell_type": "code",
      "execution_count": null,
      "metadata": {
        "colab": {
          "base_uri": "https://localhost:8080/"
        },
        "collapsed": true,
        "id": "im0mAiCSJWJX",
        "outputId": "2829ac55-c245-4ab6-9bc2-722eb1542f56"
      },
      "outputs": [
        {
          "output_type": "stream",
          "name": "stdout",
          "text": [
            "Requirement already satisfied: sentence-transformers in /usr/local/lib/python3.10/dist-packages (3.3.1)\n",
            "Requirement already satisfied: transformers<5.0.0,>=4.41.0 in /usr/local/lib/python3.10/dist-packages (from sentence-transformers) (4.46.3)\n",
            "Requirement already satisfied: tqdm in /usr/local/lib/python3.10/dist-packages (from sentence-transformers) (4.66.6)\n",
            "Requirement already satisfied: torch>=1.11.0 in /usr/local/lib/python3.10/dist-packages (from sentence-transformers) (2.5.1+cu121)\n",
            "Requirement already satisfied: scikit-learn in /usr/local/lib/python3.10/dist-packages (from sentence-transformers) (1.5.2)\n",
            "Requirement already satisfied: scipy in /usr/local/lib/python3.10/dist-packages (from sentence-transformers) (1.13.1)\n",
            "Requirement already satisfied: huggingface-hub>=0.20.0 in /usr/local/lib/python3.10/dist-packages (from sentence-transformers) (0.26.5)\n",
            "Requirement already satisfied: Pillow in /usr/local/lib/python3.10/dist-packages (from sentence-transformers) (11.0.0)\n",
            "Requirement already satisfied: filelock in /usr/local/lib/python3.10/dist-packages (from huggingface-hub>=0.20.0->sentence-transformers) (3.16.1)\n",
            "Requirement already satisfied: fsspec>=2023.5.0 in /usr/local/lib/python3.10/dist-packages (from huggingface-hub>=0.20.0->sentence-transformers) (2024.10.0)\n",
            "Requirement already satisfied: packaging>=20.9 in /usr/local/lib/python3.10/dist-packages (from huggingface-hub>=0.20.0->sentence-transformers) (24.2)\n",
            "Requirement already satisfied: pyyaml>=5.1 in /usr/local/lib/python3.10/dist-packages (from huggingface-hub>=0.20.0->sentence-transformers) (6.0.2)\n",
            "Requirement already satisfied: requests in /usr/local/lib/python3.10/dist-packages (from huggingface-hub>=0.20.0->sentence-transformers) (2.32.3)\n",
            "Requirement already satisfied: typing-extensions>=3.7.4.3 in /usr/local/lib/python3.10/dist-packages (from huggingface-hub>=0.20.0->sentence-transformers) (4.12.2)\n",
            "Requirement already satisfied: networkx in /usr/local/lib/python3.10/dist-packages (from torch>=1.11.0->sentence-transformers) (3.4.2)\n",
            "Requirement already satisfied: jinja2 in /usr/local/lib/python3.10/dist-packages (from torch>=1.11.0->sentence-transformers) (3.1.4)\n",
            "Requirement already satisfied: sympy==1.13.1 in /usr/local/lib/python3.10/dist-packages (from torch>=1.11.0->sentence-transformers) (1.13.1)\n",
            "Requirement already satisfied: mpmath<1.4,>=1.1.0 in /usr/local/lib/python3.10/dist-packages (from sympy==1.13.1->torch>=1.11.0->sentence-transformers) (1.3.0)\n",
            "Requirement already satisfied: numpy>=1.17 in /usr/local/lib/python3.10/dist-packages (from transformers<5.0.0,>=4.41.0->sentence-transformers) (1.26.4)\n",
            "Requirement already satisfied: regex!=2019.12.17 in /usr/local/lib/python3.10/dist-packages (from transformers<5.0.0,>=4.41.0->sentence-transformers) (2024.9.11)\n",
            "Requirement already satisfied: tokenizers<0.21,>=0.20 in /usr/local/lib/python3.10/dist-packages (from transformers<5.0.0,>=4.41.0->sentence-transformers) (0.20.3)\n",
            "Requirement already satisfied: safetensors>=0.4.1 in /usr/local/lib/python3.10/dist-packages (from transformers<5.0.0,>=4.41.0->sentence-transformers) (0.4.5)\n",
            "Requirement already satisfied: joblib>=1.2.0 in /usr/local/lib/python3.10/dist-packages (from scikit-learn->sentence-transformers) (1.4.2)\n",
            "Requirement already satisfied: threadpoolctl>=3.1.0 in /usr/local/lib/python3.10/dist-packages (from scikit-learn->sentence-transformers) (3.5.0)\n",
            "Requirement already satisfied: MarkupSafe>=2.0 in /usr/local/lib/python3.10/dist-packages (from jinja2->torch>=1.11.0->sentence-transformers) (3.0.2)\n",
            "Requirement already satisfied: charset-normalizer<4,>=2 in /usr/local/lib/python3.10/dist-packages (from requests->huggingface-hub>=0.20.0->sentence-transformers) (3.4.0)\n",
            "Requirement already satisfied: idna<4,>=2.5 in /usr/local/lib/python3.10/dist-packages (from requests->huggingface-hub>=0.20.0->sentence-transformers) (3.10)\n",
            "Requirement already satisfied: urllib3<3,>=1.21.1 in /usr/local/lib/python3.10/dist-packages (from requests->huggingface-hub>=0.20.0->sentence-transformers) (2.2.3)\n",
            "Requirement already satisfied: certifi>=2017.4.17 in /usr/local/lib/python3.10/dist-packages (from requests->huggingface-hub>=0.20.0->sentence-transformers) (2024.8.30)\n",
            "Requirement already satisfied: faiss-cpu in /usr/local/lib/python3.10/dist-packages (1.9.0.post1)\n",
            "Requirement already satisfied: numpy<3.0,>=1.25.0 in /usr/local/lib/python3.10/dist-packages (from faiss-cpu) (1.26.4)\n",
            "Requirement already satisfied: packaging in /usr/local/lib/python3.10/dist-packages (from faiss-cpu) (24.2)\n",
            "Requirement already satisfied: PyMuPDF in /usr/local/lib/python3.10/dist-packages (1.25.1)\n",
            "Requirement already satisfied: Pillow in /usr/local/lib/python3.10/dist-packages (11.0.0)\n",
            "Requirement already satisfied: numpy in /usr/local/lib/python3.10/dist-packages (1.26.4)\n",
            "Requirement already satisfied: langchain in /usr/local/lib/python3.10/dist-packages (0.3.12)\n",
            "Requirement already satisfied: PyYAML>=5.3 in /usr/local/lib/python3.10/dist-packages (from langchain) (6.0.2)\n",
            "Requirement already satisfied: SQLAlchemy<3,>=1.4 in /usr/local/lib/python3.10/dist-packages (from langchain) (2.0.36)\n",
            "Requirement already satisfied: aiohttp<4.0.0,>=3.8.3 in /usr/local/lib/python3.10/dist-packages (from langchain) (3.11.10)\n",
            "Requirement already satisfied: async-timeout<5.0.0,>=4.0.0 in /usr/local/lib/python3.10/dist-packages (from langchain) (4.0.3)\n",
            "Requirement already satisfied: langchain-core<0.4.0,>=0.3.25 in /usr/local/lib/python3.10/dist-packages (from langchain) (0.3.25)\n",
            "Requirement already satisfied: langchain-text-splitters<0.4.0,>=0.3.3 in /usr/local/lib/python3.10/dist-packages (from langchain) (0.3.3)\n",
            "Requirement already satisfied: langsmith<0.3,>=0.1.17 in /usr/local/lib/python3.10/dist-packages (from langchain) (0.2.2)\n",
            "Requirement already satisfied: numpy<2,>=1.22.4 in /usr/local/lib/python3.10/dist-packages (from langchain) (1.26.4)\n",
            "Requirement already satisfied: pydantic<3.0.0,>=2.7.4 in /usr/local/lib/python3.10/dist-packages (from langchain) (2.10.3)\n",
            "Requirement already satisfied: requests<3,>=2 in /usr/local/lib/python3.10/dist-packages (from langchain) (2.32.3)\n",
            "Requirement already satisfied: tenacity!=8.4.0,<10,>=8.1.0 in /usr/local/lib/python3.10/dist-packages (from langchain) (9.0.0)\n",
            "Requirement already satisfied: aiohappyeyeballs>=2.3.0 in /usr/local/lib/python3.10/dist-packages (from aiohttp<4.0.0,>=3.8.3->langchain) (2.4.4)\n",
            "Requirement already satisfied: aiosignal>=1.1.2 in /usr/local/lib/python3.10/dist-packages (from aiohttp<4.0.0,>=3.8.3->langchain) (1.3.1)\n",
            "Requirement already satisfied: attrs>=17.3.0 in /usr/local/lib/python3.10/dist-packages (from aiohttp<4.0.0,>=3.8.3->langchain) (24.2.0)\n",
            "Requirement already satisfied: frozenlist>=1.1.1 in /usr/local/lib/python3.10/dist-packages (from aiohttp<4.0.0,>=3.8.3->langchain) (1.5.0)\n",
            "Requirement already satisfied: multidict<7.0,>=4.5 in /usr/local/lib/python3.10/dist-packages (from aiohttp<4.0.0,>=3.8.3->langchain) (6.1.0)\n",
            "Requirement already satisfied: propcache>=0.2.0 in /usr/local/lib/python3.10/dist-packages (from aiohttp<4.0.0,>=3.8.3->langchain) (0.2.1)\n",
            "Requirement already satisfied: yarl<2.0,>=1.17.0 in /usr/local/lib/python3.10/dist-packages (from aiohttp<4.0.0,>=3.8.3->langchain) (1.18.3)\n",
            "Requirement already satisfied: jsonpatch<2.0,>=1.33 in /usr/local/lib/python3.10/dist-packages (from langchain-core<0.4.0,>=0.3.25->langchain) (1.33)\n",
            "Requirement already satisfied: packaging<25,>=23.2 in /usr/local/lib/python3.10/dist-packages (from langchain-core<0.4.0,>=0.3.25->langchain) (24.2)\n",
            "Requirement already satisfied: typing-extensions>=4.7 in /usr/local/lib/python3.10/dist-packages (from langchain-core<0.4.0,>=0.3.25->langchain) (4.12.2)\n",
            "Requirement already satisfied: httpx<1,>=0.23.0 in /usr/local/lib/python3.10/dist-packages (from langsmith<0.3,>=0.1.17->langchain) (0.28.1)\n",
            "Requirement already satisfied: orjson<4.0.0,>=3.9.14 in /usr/local/lib/python3.10/dist-packages (from langsmith<0.3,>=0.1.17->langchain) (3.10.12)\n",
            "Requirement already satisfied: requests-toolbelt<2.0.0,>=1.0.0 in /usr/local/lib/python3.10/dist-packages (from langsmith<0.3,>=0.1.17->langchain) (1.0.0)\n",
            "Requirement already satisfied: annotated-types>=0.6.0 in /usr/local/lib/python3.10/dist-packages (from pydantic<3.0.0,>=2.7.4->langchain) (0.7.0)\n",
            "Requirement already satisfied: pydantic-core==2.27.1 in /usr/local/lib/python3.10/dist-packages (from pydantic<3.0.0,>=2.7.4->langchain) (2.27.1)\n",
            "Requirement already satisfied: charset-normalizer<4,>=2 in /usr/local/lib/python3.10/dist-packages (from requests<3,>=2->langchain) (3.4.0)\n",
            "Requirement already satisfied: idna<4,>=2.5 in /usr/local/lib/python3.10/dist-packages (from requests<3,>=2->langchain) (3.10)\n",
            "Requirement already satisfied: urllib3<3,>=1.21.1 in /usr/local/lib/python3.10/dist-packages (from requests<3,>=2->langchain) (2.2.3)\n",
            "Requirement already satisfied: certifi>=2017.4.17 in /usr/local/lib/python3.10/dist-packages (from requests<3,>=2->langchain) (2024.8.30)\n",
            "Requirement already satisfied: greenlet!=0.4.17 in /usr/local/lib/python3.10/dist-packages (from SQLAlchemy<3,>=1.4->langchain) (3.1.1)\n",
            "Requirement already satisfied: anyio in /usr/local/lib/python3.10/dist-packages (from httpx<1,>=0.23.0->langsmith<0.3,>=0.1.17->langchain) (3.7.1)\n",
            "Requirement already satisfied: httpcore==1.* in /usr/local/lib/python3.10/dist-packages (from httpx<1,>=0.23.0->langsmith<0.3,>=0.1.17->langchain) (1.0.7)\n",
            "Requirement already satisfied: h11<0.15,>=0.13 in /usr/local/lib/python3.10/dist-packages (from httpcore==1.*->httpx<1,>=0.23.0->langsmith<0.3,>=0.1.17->langchain) (0.14.0)\n",
            "Requirement already satisfied: jsonpointer>=1.9 in /usr/local/lib/python3.10/dist-packages (from jsonpatch<2.0,>=1.33->langchain-core<0.4.0,>=0.3.25->langchain) (3.0.0)\n",
            "Requirement already satisfied: sniffio>=1.1 in /usr/local/lib/python3.10/dist-packages (from anyio->httpx<1,>=0.23.0->langsmith<0.3,>=0.1.17->langchain) (1.3.1)\n",
            "Requirement already satisfied: exceptiongroup in /usr/local/lib/python3.10/dist-packages (from anyio->httpx<1,>=0.23.0->langsmith<0.3,>=0.1.17->langchain) (1.2.2)\n",
            "Requirement already satisfied: langchain-huggingface in /usr/local/lib/python3.10/dist-packages (0.1.2)\n",
            "Requirement already satisfied: huggingface-hub>=0.23.0 in /usr/local/lib/python3.10/dist-packages (from langchain-huggingface) (0.26.5)\n",
            "Requirement already satisfied: langchain-core<0.4.0,>=0.3.15 in /usr/local/lib/python3.10/dist-packages (from langchain-huggingface) (0.3.25)\n",
            "Requirement already satisfied: sentence-transformers>=2.6.0 in /usr/local/lib/python3.10/dist-packages (from langchain-huggingface) (3.3.1)\n",
            "Requirement already satisfied: tokenizers>=0.19.1 in /usr/local/lib/python3.10/dist-packages (from langchain-huggingface) (0.20.3)\n",
            "Requirement already satisfied: transformers>=4.39.0 in /usr/local/lib/python3.10/dist-packages (from langchain-huggingface) (4.46.3)\n",
            "Requirement already satisfied: filelock in /usr/local/lib/python3.10/dist-packages (from huggingface-hub>=0.23.0->langchain-huggingface) (3.16.1)\n",
            "Requirement already satisfied: fsspec>=2023.5.0 in /usr/local/lib/python3.10/dist-packages (from huggingface-hub>=0.23.0->langchain-huggingface) (2024.10.0)\n",
            "Requirement already satisfied: packaging>=20.9 in /usr/local/lib/python3.10/dist-packages (from huggingface-hub>=0.23.0->langchain-huggingface) (24.2)\n",
            "Requirement already satisfied: pyyaml>=5.1 in /usr/local/lib/python3.10/dist-packages (from huggingface-hub>=0.23.0->langchain-huggingface) (6.0.2)\n",
            "Requirement already satisfied: requests in /usr/local/lib/python3.10/dist-packages (from huggingface-hub>=0.23.0->langchain-huggingface) (2.32.3)\n",
            "Requirement already satisfied: tqdm>=4.42.1 in /usr/local/lib/python3.10/dist-packages (from huggingface-hub>=0.23.0->langchain-huggingface) (4.66.6)\n",
            "Requirement already satisfied: typing-extensions>=3.7.4.3 in /usr/local/lib/python3.10/dist-packages (from huggingface-hub>=0.23.0->langchain-huggingface) (4.12.2)\n",
            "Requirement already satisfied: jsonpatch<2.0,>=1.33 in /usr/local/lib/python3.10/dist-packages (from langchain-core<0.4.0,>=0.3.15->langchain-huggingface) (1.33)\n",
            "Requirement already satisfied: langsmith<0.3,>=0.1.125 in /usr/local/lib/python3.10/dist-packages (from langchain-core<0.4.0,>=0.3.15->langchain-huggingface) (0.2.2)\n",
            "Requirement already satisfied: pydantic<3.0.0,>=2.5.2 in /usr/local/lib/python3.10/dist-packages (from langchain-core<0.4.0,>=0.3.15->langchain-huggingface) (2.10.3)\n",
            "Requirement already satisfied: tenacity!=8.4.0,<10.0.0,>=8.1.0 in /usr/local/lib/python3.10/dist-packages (from langchain-core<0.4.0,>=0.3.15->langchain-huggingface) (9.0.0)\n",
            "Requirement already satisfied: torch>=1.11.0 in /usr/local/lib/python3.10/dist-packages (from sentence-transformers>=2.6.0->langchain-huggingface) (2.5.1+cu121)\n",
            "Requirement already satisfied: scikit-learn in /usr/local/lib/python3.10/dist-packages (from sentence-transformers>=2.6.0->langchain-huggingface) (1.5.2)\n",
            "Requirement already satisfied: scipy in /usr/local/lib/python3.10/dist-packages (from sentence-transformers>=2.6.0->langchain-huggingface) (1.13.1)\n",
            "Requirement already satisfied: Pillow in /usr/local/lib/python3.10/dist-packages (from sentence-transformers>=2.6.0->langchain-huggingface) (11.0.0)\n",
            "Requirement already satisfied: numpy>=1.17 in /usr/local/lib/python3.10/dist-packages (from transformers>=4.39.0->langchain-huggingface) (1.26.4)\n",
            "Requirement already satisfied: regex!=2019.12.17 in /usr/local/lib/python3.10/dist-packages (from transformers>=4.39.0->langchain-huggingface) (2024.9.11)\n",
            "Requirement already satisfied: safetensors>=0.4.1 in /usr/local/lib/python3.10/dist-packages (from transformers>=4.39.0->langchain-huggingface) (0.4.5)\n",
            "Requirement already satisfied: jsonpointer>=1.9 in /usr/local/lib/python3.10/dist-packages (from jsonpatch<2.0,>=1.33->langchain-core<0.4.0,>=0.3.15->langchain-huggingface) (3.0.0)\n",
            "Requirement already satisfied: httpx<1,>=0.23.0 in /usr/local/lib/python3.10/dist-packages (from langsmith<0.3,>=0.1.125->langchain-core<0.4.0,>=0.3.15->langchain-huggingface) (0.28.1)\n",
            "Requirement already satisfied: orjson<4.0.0,>=3.9.14 in /usr/local/lib/python3.10/dist-packages (from langsmith<0.3,>=0.1.125->langchain-core<0.4.0,>=0.3.15->langchain-huggingface) (3.10.12)\n",
            "Requirement already satisfied: requests-toolbelt<2.0.0,>=1.0.0 in /usr/local/lib/python3.10/dist-packages (from langsmith<0.3,>=0.1.125->langchain-core<0.4.0,>=0.3.15->langchain-huggingface) (1.0.0)\n",
            "Requirement already satisfied: annotated-types>=0.6.0 in /usr/local/lib/python3.10/dist-packages (from pydantic<3.0.0,>=2.5.2->langchain-core<0.4.0,>=0.3.15->langchain-huggingface) (0.7.0)\n",
            "Requirement already satisfied: pydantic-core==2.27.1 in /usr/local/lib/python3.10/dist-packages (from pydantic<3.0.0,>=2.5.2->langchain-core<0.4.0,>=0.3.15->langchain-huggingface) (2.27.1)\n",
            "Requirement already satisfied: charset-normalizer<4,>=2 in /usr/local/lib/python3.10/dist-packages (from requests->huggingface-hub>=0.23.0->langchain-huggingface) (3.4.0)\n",
            "Requirement already satisfied: idna<4,>=2.5 in /usr/local/lib/python3.10/dist-packages (from requests->huggingface-hub>=0.23.0->langchain-huggingface) (3.10)\n",
            "Requirement already satisfied: urllib3<3,>=1.21.1 in /usr/local/lib/python3.10/dist-packages (from requests->huggingface-hub>=0.23.0->langchain-huggingface) (2.2.3)\n",
            "Requirement already satisfied: certifi>=2017.4.17 in /usr/local/lib/python3.10/dist-packages (from requests->huggingface-hub>=0.23.0->langchain-huggingface) (2024.8.30)\n",
            "Requirement already satisfied: networkx in /usr/local/lib/python3.10/dist-packages (from torch>=1.11.0->sentence-transformers>=2.6.0->langchain-huggingface) (3.4.2)\n",
            "Requirement already satisfied: jinja2 in /usr/local/lib/python3.10/dist-packages (from torch>=1.11.0->sentence-transformers>=2.6.0->langchain-huggingface) (3.1.4)\n",
            "Requirement already satisfied: sympy==1.13.1 in /usr/local/lib/python3.10/dist-packages (from torch>=1.11.0->sentence-transformers>=2.6.0->langchain-huggingface) (1.13.1)\n",
            "Requirement already satisfied: mpmath<1.4,>=1.1.0 in /usr/local/lib/python3.10/dist-packages (from sympy==1.13.1->torch>=1.11.0->sentence-transformers>=2.6.0->langchain-huggingface) (1.3.0)\n",
            "Requirement already satisfied: joblib>=1.2.0 in /usr/local/lib/python3.10/dist-packages (from scikit-learn->sentence-transformers>=2.6.0->langchain-huggingface) (1.4.2)\n",
            "Requirement already satisfied: threadpoolctl>=3.1.0 in /usr/local/lib/python3.10/dist-packages (from scikit-learn->sentence-transformers>=2.6.0->langchain-huggingface) (3.5.0)\n",
            "Requirement already satisfied: anyio in /usr/local/lib/python3.10/dist-packages (from httpx<1,>=0.23.0->langsmith<0.3,>=0.1.125->langchain-core<0.4.0,>=0.3.15->langchain-huggingface) (3.7.1)\n",
            "Requirement already satisfied: httpcore==1.* in /usr/local/lib/python3.10/dist-packages (from httpx<1,>=0.23.0->langsmith<0.3,>=0.1.125->langchain-core<0.4.0,>=0.3.15->langchain-huggingface) (1.0.7)\n",
            "Requirement already satisfied: h11<0.15,>=0.13 in /usr/local/lib/python3.10/dist-packages (from httpcore==1.*->httpx<1,>=0.23.0->langsmith<0.3,>=0.1.125->langchain-core<0.4.0,>=0.3.15->langchain-huggingface) (0.14.0)\n",
            "Requirement already satisfied: MarkupSafe>=2.0 in /usr/local/lib/python3.10/dist-packages (from jinja2->torch>=1.11.0->sentence-transformers>=2.6.0->langchain-huggingface) (3.0.2)\n",
            "Requirement already satisfied: sniffio>=1.1 in /usr/local/lib/python3.10/dist-packages (from anyio->httpx<1,>=0.23.0->langsmith<0.3,>=0.1.125->langchain-core<0.4.0,>=0.3.15->langchain-huggingface) (1.3.1)\n",
            "Requirement already satisfied: exceptiongroup in /usr/local/lib/python3.10/dist-packages (from anyio->httpx<1,>=0.23.0->langsmith<0.3,>=0.1.125->langchain-core<0.4.0,>=0.3.15->langchain-huggingface) (1.2.2)\n",
            "Requirement already satisfied: langchain-openai in /usr/local/lib/python3.10/dist-packages (0.2.12)\n",
            "Requirement already satisfied: langchain-core<0.4.0,>=0.3.21 in /usr/local/lib/python3.10/dist-packages (from langchain-openai) (0.3.25)\n",
            "Requirement already satisfied: openai<2.0.0,>=1.55.3 in /usr/local/lib/python3.10/dist-packages (from langchain-openai) (1.57.4)\n",
            "Requirement already satisfied: tiktoken<1,>=0.7 in /usr/local/lib/python3.10/dist-packages (from langchain-openai) (0.8.0)\n",
            "Requirement already satisfied: PyYAML>=5.3 in /usr/local/lib/python3.10/dist-packages (from langchain-core<0.4.0,>=0.3.21->langchain-openai) (6.0.2)\n",
            "Requirement already satisfied: jsonpatch<2.0,>=1.33 in /usr/local/lib/python3.10/dist-packages (from langchain-core<0.4.0,>=0.3.21->langchain-openai) (1.33)\n",
            "Requirement already satisfied: langsmith<0.3,>=0.1.125 in /usr/local/lib/python3.10/dist-packages (from langchain-core<0.4.0,>=0.3.21->langchain-openai) (0.2.2)\n",
            "Requirement already satisfied: packaging<25,>=23.2 in /usr/local/lib/python3.10/dist-packages (from langchain-core<0.4.0,>=0.3.21->langchain-openai) (24.2)\n",
            "Requirement already satisfied: pydantic<3.0.0,>=2.5.2 in /usr/local/lib/python3.10/dist-packages (from langchain-core<0.4.0,>=0.3.21->langchain-openai) (2.10.3)\n",
            "Requirement already satisfied: tenacity!=8.4.0,<10.0.0,>=8.1.0 in /usr/local/lib/python3.10/dist-packages (from langchain-core<0.4.0,>=0.3.21->langchain-openai) (9.0.0)\n",
            "Requirement already satisfied: typing-extensions>=4.7 in /usr/local/lib/python3.10/dist-packages (from langchain-core<0.4.0,>=0.3.21->langchain-openai) (4.12.2)\n",
            "Requirement already satisfied: anyio<5,>=3.5.0 in /usr/local/lib/python3.10/dist-packages (from openai<2.0.0,>=1.55.3->langchain-openai) (3.7.1)\n",
            "Requirement already satisfied: distro<2,>=1.7.0 in /usr/local/lib/python3.10/dist-packages (from openai<2.0.0,>=1.55.3->langchain-openai) (1.9.0)\n",
            "Requirement already satisfied: httpx<1,>=0.23.0 in /usr/local/lib/python3.10/dist-packages (from openai<2.0.0,>=1.55.3->langchain-openai) (0.28.1)\n",
            "Requirement already satisfied: jiter<1,>=0.4.0 in /usr/local/lib/python3.10/dist-packages (from openai<2.0.0,>=1.55.3->langchain-openai) (0.8.2)\n",
            "Requirement already satisfied: sniffio in /usr/local/lib/python3.10/dist-packages (from openai<2.0.0,>=1.55.3->langchain-openai) (1.3.1)\n",
            "Requirement already satisfied: tqdm>4 in /usr/local/lib/python3.10/dist-packages (from openai<2.0.0,>=1.55.3->langchain-openai) (4.66.6)\n",
            "Requirement already satisfied: regex>=2022.1.18 in /usr/local/lib/python3.10/dist-packages (from tiktoken<1,>=0.7->langchain-openai) (2024.9.11)\n",
            "Requirement already satisfied: requests>=2.26.0 in /usr/local/lib/python3.10/dist-packages (from tiktoken<1,>=0.7->langchain-openai) (2.32.3)\n",
            "Requirement already satisfied: idna>=2.8 in /usr/local/lib/python3.10/dist-packages (from anyio<5,>=3.5.0->openai<2.0.0,>=1.55.3->langchain-openai) (3.10)\n",
            "Requirement already satisfied: exceptiongroup in /usr/local/lib/python3.10/dist-packages (from anyio<5,>=3.5.0->openai<2.0.0,>=1.55.3->langchain-openai) (1.2.2)\n",
            "Requirement already satisfied: certifi in /usr/local/lib/python3.10/dist-packages (from httpx<1,>=0.23.0->openai<2.0.0,>=1.55.3->langchain-openai) (2024.8.30)\n",
            "Requirement already satisfied: httpcore==1.* in /usr/local/lib/python3.10/dist-packages (from httpx<1,>=0.23.0->openai<2.0.0,>=1.55.3->langchain-openai) (1.0.7)\n",
            "Requirement already satisfied: h11<0.15,>=0.13 in /usr/local/lib/python3.10/dist-packages (from httpcore==1.*->httpx<1,>=0.23.0->openai<2.0.0,>=1.55.3->langchain-openai) (0.14.0)\n",
            "Requirement already satisfied: jsonpointer>=1.9 in /usr/local/lib/python3.10/dist-packages (from jsonpatch<2.0,>=1.33->langchain-core<0.4.0,>=0.3.21->langchain-openai) (3.0.0)\n",
            "Requirement already satisfied: orjson<4.0.0,>=3.9.14 in /usr/local/lib/python3.10/dist-packages (from langsmith<0.3,>=0.1.125->langchain-core<0.4.0,>=0.3.21->langchain-openai) (3.10.12)\n",
            "Requirement already satisfied: requests-toolbelt<2.0.0,>=1.0.0 in /usr/local/lib/python3.10/dist-packages (from langsmith<0.3,>=0.1.125->langchain-core<0.4.0,>=0.3.21->langchain-openai) (1.0.0)\n",
            "Requirement already satisfied: annotated-types>=0.6.0 in /usr/local/lib/python3.10/dist-packages (from pydantic<3.0.0,>=2.5.2->langchain-core<0.4.0,>=0.3.21->langchain-openai) (0.7.0)\n",
            "Requirement already satisfied: pydantic-core==2.27.1 in /usr/local/lib/python3.10/dist-packages (from pydantic<3.0.0,>=2.5.2->langchain-core<0.4.0,>=0.3.21->langchain-openai) (2.27.1)\n",
            "Requirement already satisfied: charset-normalizer<4,>=2 in /usr/local/lib/python3.10/dist-packages (from requests>=2.26.0->tiktoken<1,>=0.7->langchain-openai) (3.4.0)\n",
            "Requirement already satisfied: urllib3<3,>=1.21.1 in /usr/local/lib/python3.10/dist-packages (from requests>=2.26.0->tiktoken<1,>=0.7->langchain-openai) (2.2.3)\n",
            "Requirement already satisfied: pydantic in /usr/local/lib/python3.10/dist-packages (2.10.3)\n",
            "Requirement already satisfied: annotated-types>=0.6.0 in /usr/local/lib/python3.10/dist-packages (from pydantic) (0.7.0)\n",
            "Requirement already satisfied: pydantic-core==2.27.1 in /usr/local/lib/python3.10/dist-packages (from pydantic) (2.27.1)\n",
            "Requirement already satisfied: typing-extensions>=4.12.2 in /usr/local/lib/python3.10/dist-packages (from pydantic) (4.12.2)\n",
            "Requirement already satisfied: openai in /usr/local/lib/python3.10/dist-packages (1.57.4)\n",
            "Requirement already satisfied: anyio<5,>=3.5.0 in /usr/local/lib/python3.10/dist-packages (from openai) (3.7.1)\n",
            "Requirement already satisfied: distro<2,>=1.7.0 in /usr/local/lib/python3.10/dist-packages (from openai) (1.9.0)\n",
            "Requirement already satisfied: httpx<1,>=0.23.0 in /usr/local/lib/python3.10/dist-packages (from openai) (0.28.1)\n",
            "Requirement already satisfied: jiter<1,>=0.4.0 in /usr/local/lib/python3.10/dist-packages (from openai) (0.8.2)\n",
            "Requirement already satisfied: pydantic<3,>=1.9.0 in /usr/local/lib/python3.10/dist-packages (from openai) (2.10.3)\n",
            "Requirement already satisfied: sniffio in /usr/local/lib/python3.10/dist-packages (from openai) (1.3.1)\n",
            "Requirement already satisfied: tqdm>4 in /usr/local/lib/python3.10/dist-packages (from openai) (4.66.6)\n",
            "Requirement already satisfied: typing-extensions<5,>=4.11 in /usr/local/lib/python3.10/dist-packages (from openai) (4.12.2)\n",
            "Requirement already satisfied: idna>=2.8 in /usr/local/lib/python3.10/dist-packages (from anyio<5,>=3.5.0->openai) (3.10)\n",
            "Requirement already satisfied: exceptiongroup in /usr/local/lib/python3.10/dist-packages (from anyio<5,>=3.5.0->openai) (1.2.2)\n",
            "Requirement already satisfied: certifi in /usr/local/lib/python3.10/dist-packages (from httpx<1,>=0.23.0->openai) (2024.8.30)\n",
            "Requirement already satisfied: httpcore==1.* in /usr/local/lib/python3.10/dist-packages (from httpx<1,>=0.23.0->openai) (1.0.7)\n",
            "Requirement already satisfied: h11<0.15,>=0.13 in /usr/local/lib/python3.10/dist-packages (from httpcore==1.*->httpx<1,>=0.23.0->openai) (0.14.0)\n",
            "Requirement already satisfied: annotated-types>=0.6.0 in /usr/local/lib/python3.10/dist-packages (from pydantic<3,>=1.9.0->openai) (0.7.0)\n",
            "Requirement already satisfied: pydantic-core==2.27.1 in /usr/local/lib/python3.10/dist-packages (from pydantic<3,>=1.9.0->openai) (2.27.1)\n",
            "Requirement already satisfied: pandas in /usr/local/lib/python3.10/dist-packages (2.2.2)\n",
            "Requirement already satisfied: numpy>=1.22.4 in /usr/local/lib/python3.10/dist-packages (from pandas) (1.26.4)\n",
            "Requirement already satisfied: python-dateutil>=2.8.2 in /usr/local/lib/python3.10/dist-packages (from pandas) (2.8.2)\n",
            "Requirement already satisfied: pytz>=2020.1 in /usr/local/lib/python3.10/dist-packages (from pandas) (2024.2)\n",
            "Requirement already satisfied: tzdata>=2022.7 in /usr/local/lib/python3.10/dist-packages (from pandas) (2024.2)\n",
            "Requirement already satisfied: six>=1.5 in /usr/local/lib/python3.10/dist-packages (from python-dateutil>=2.8.2->pandas) (1.17.0)\n",
            "Requirement already satisfied: langchain-community in /usr/local/lib/python3.10/dist-packages (0.3.12)\n",
            "Requirement already satisfied: langchain-core in /usr/local/lib/python3.10/dist-packages (0.3.25)\n",
            "Requirement already satisfied: PyYAML>=5.3 in /usr/local/lib/python3.10/dist-packages (from langchain-community) (6.0.2)\n",
            "Requirement already satisfied: SQLAlchemy<3,>=1.4 in /usr/local/lib/python3.10/dist-packages (from langchain-community) (2.0.36)\n",
            "Requirement already satisfied: aiohttp<4.0.0,>=3.8.3 in /usr/local/lib/python3.10/dist-packages (from langchain-community) (3.11.10)\n",
            "Requirement already satisfied: dataclasses-json<0.7,>=0.5.7 in /usr/local/lib/python3.10/dist-packages (from langchain-community) (0.6.7)\n",
            "Requirement already satisfied: httpx-sse<0.5.0,>=0.4.0 in /usr/local/lib/python3.10/dist-packages (from langchain-community) (0.4.0)\n",
            "Requirement already satisfied: langchain<0.4.0,>=0.3.12 in /usr/local/lib/python3.10/dist-packages (from langchain-community) (0.3.12)\n",
            "Requirement already satisfied: langsmith<0.3,>=0.1.125 in /usr/local/lib/python3.10/dist-packages (from langchain-community) (0.2.2)\n",
            "Requirement already satisfied: numpy<2,>=1.22.4 in /usr/local/lib/python3.10/dist-packages (from langchain-community) (1.26.4)\n",
            "Requirement already satisfied: pydantic-settings<3.0.0,>=2.4.0 in /usr/local/lib/python3.10/dist-packages (from langchain-community) (2.7.0)\n",
            "Requirement already satisfied: requests<3,>=2 in /usr/local/lib/python3.10/dist-packages (from langchain-community) (2.32.3)\n",
            "Requirement already satisfied: tenacity!=8.4.0,<10,>=8.1.0 in /usr/local/lib/python3.10/dist-packages (from langchain-community) (9.0.0)\n",
            "Requirement already satisfied: jsonpatch<2.0,>=1.33 in /usr/local/lib/python3.10/dist-packages (from langchain-core) (1.33)\n",
            "Requirement already satisfied: packaging<25,>=23.2 in /usr/local/lib/python3.10/dist-packages (from langchain-core) (24.2)\n",
            "Requirement already satisfied: pydantic<3.0.0,>=2.5.2 in /usr/local/lib/python3.10/dist-packages (from langchain-core) (2.10.3)\n",
            "Requirement already satisfied: typing-extensions>=4.7 in /usr/local/lib/python3.10/dist-packages (from langchain-core) (4.12.2)\n",
            "Requirement already satisfied: aiohappyeyeballs>=2.3.0 in /usr/local/lib/python3.10/dist-packages (from aiohttp<4.0.0,>=3.8.3->langchain-community) (2.4.4)\n",
            "Requirement already satisfied: aiosignal>=1.1.2 in /usr/local/lib/python3.10/dist-packages (from aiohttp<4.0.0,>=3.8.3->langchain-community) (1.3.1)\n",
            "Requirement already satisfied: async-timeout<6.0,>=4.0 in /usr/local/lib/python3.10/dist-packages (from aiohttp<4.0.0,>=3.8.3->langchain-community) (4.0.3)\n",
            "Requirement already satisfied: attrs>=17.3.0 in /usr/local/lib/python3.10/dist-packages (from aiohttp<4.0.0,>=3.8.3->langchain-community) (24.2.0)\n",
            "Requirement already satisfied: frozenlist>=1.1.1 in /usr/local/lib/python3.10/dist-packages (from aiohttp<4.0.0,>=3.8.3->langchain-community) (1.5.0)\n",
            "Requirement already satisfied: multidict<7.0,>=4.5 in /usr/local/lib/python3.10/dist-packages (from aiohttp<4.0.0,>=3.8.3->langchain-community) (6.1.0)\n",
            "Requirement already satisfied: propcache>=0.2.0 in /usr/local/lib/python3.10/dist-packages (from aiohttp<4.0.0,>=3.8.3->langchain-community) (0.2.1)\n",
            "Requirement already satisfied: yarl<2.0,>=1.17.0 in /usr/local/lib/python3.10/dist-packages (from aiohttp<4.0.0,>=3.8.3->langchain-community) (1.18.3)\n",
            "Requirement already satisfied: marshmallow<4.0.0,>=3.18.0 in /usr/local/lib/python3.10/dist-packages (from dataclasses-json<0.7,>=0.5.7->langchain-community) (3.23.1)\n",
            "Requirement already satisfied: typing-inspect<1,>=0.4.0 in /usr/local/lib/python3.10/dist-packages (from dataclasses-json<0.7,>=0.5.7->langchain-community) (0.9.0)\n",
            "Requirement already satisfied: jsonpointer>=1.9 in /usr/local/lib/python3.10/dist-packages (from jsonpatch<2.0,>=1.33->langchain-core) (3.0.0)\n",
            "Requirement already satisfied: langchain-text-splitters<0.4.0,>=0.3.3 in /usr/local/lib/python3.10/dist-packages (from langchain<0.4.0,>=0.3.12->langchain-community) (0.3.3)\n",
            "Requirement already satisfied: httpx<1,>=0.23.0 in /usr/local/lib/python3.10/dist-packages (from langsmith<0.3,>=0.1.125->langchain-community) (0.28.1)\n",
            "Requirement already satisfied: orjson<4.0.0,>=3.9.14 in /usr/local/lib/python3.10/dist-packages (from langsmith<0.3,>=0.1.125->langchain-community) (3.10.12)\n",
            "Requirement already satisfied: requests-toolbelt<2.0.0,>=1.0.0 in /usr/local/lib/python3.10/dist-packages (from langsmith<0.3,>=0.1.125->langchain-community) (1.0.0)\n",
            "Requirement already satisfied: annotated-types>=0.6.0 in /usr/local/lib/python3.10/dist-packages (from pydantic<3.0.0,>=2.5.2->langchain-core) (0.7.0)\n",
            "Requirement already satisfied: pydantic-core==2.27.1 in /usr/local/lib/python3.10/dist-packages (from pydantic<3.0.0,>=2.5.2->langchain-core) (2.27.1)\n",
            "Requirement already satisfied: python-dotenv>=0.21.0 in /usr/local/lib/python3.10/dist-packages (from pydantic-settings<3.0.0,>=2.4.0->langchain-community) (1.0.1)\n",
            "Requirement already satisfied: charset-normalizer<4,>=2 in /usr/local/lib/python3.10/dist-packages (from requests<3,>=2->langchain-community) (3.4.0)\n",
            "Requirement already satisfied: idna<4,>=2.5 in /usr/local/lib/python3.10/dist-packages (from requests<3,>=2->langchain-community) (3.10)\n",
            "Requirement already satisfied: urllib3<3,>=1.21.1 in /usr/local/lib/python3.10/dist-packages (from requests<3,>=2->langchain-community) (2.2.3)\n",
            "Requirement already satisfied: certifi>=2017.4.17 in /usr/local/lib/python3.10/dist-packages (from requests<3,>=2->langchain-community) (2024.8.30)\n",
            "Requirement already satisfied: greenlet!=0.4.17 in /usr/local/lib/python3.10/dist-packages (from SQLAlchemy<3,>=1.4->langchain-community) (3.1.1)\n",
            "Requirement already satisfied: anyio in /usr/local/lib/python3.10/dist-packages (from httpx<1,>=0.23.0->langsmith<0.3,>=0.1.125->langchain-community) (3.7.1)\n",
            "Requirement already satisfied: httpcore==1.* in /usr/local/lib/python3.10/dist-packages (from httpx<1,>=0.23.0->langsmith<0.3,>=0.1.125->langchain-community) (1.0.7)\n",
            "Requirement already satisfied: h11<0.15,>=0.13 in /usr/local/lib/python3.10/dist-packages (from httpcore==1.*->httpx<1,>=0.23.0->langsmith<0.3,>=0.1.125->langchain-community) (0.14.0)\n",
            "Requirement already satisfied: mypy-extensions>=0.3.0 in /usr/local/lib/python3.10/dist-packages (from typing-inspect<1,>=0.4.0->dataclasses-json<0.7,>=0.5.7->langchain-community) (1.0.0)\n",
            "Requirement already satisfied: sniffio>=1.1 in /usr/local/lib/python3.10/dist-packages (from anyio->httpx<1,>=0.23.0->langsmith<0.3,>=0.1.125->langchain-community) (1.3.1)\n",
            "Requirement already satisfied: exceptiongroup in /usr/local/lib/python3.10/dist-packages (from anyio->httpx<1,>=0.23.0->langsmith<0.3,>=0.1.125->langchain-community) (1.2.2)\n"
          ]
        }
      ],
      "source": [
        "!pip install -U sentence-transformers\n",
        "!pip install faiss-cpu\n",
        "!pip install PyMuPDF Pillow numpy\n",
        "!pip install langchain\n",
        "!pip install langchain-huggingface\n",
        "!pip install langchain-openai\n",
        "!pip install pydantic\n",
        "!pip install openai\n",
        "!pip install pandas\n",
        "!pip install langchain-community langchain-core"
      ]
    },
    {
      "cell_type": "markdown",
      "metadata": {
        "id": "FBw14h4YK_94"
      },
      "source": [
        "Part 1\n"
      ]
    },
    {
      "cell_type": "code",
      "execution_count": null,
      "metadata": {
        "id": "E0JLMHgkOK4G"
      },
      "outputs": [],
      "source": [
        "from pyspark.sql.types import (\n",
        "    StructType, StructField,\n",
        "    StringType, IntegerType, FloatType,\n",
        "    ArrayType\n",
        ")\n",
        "\n",
        "def create_patient_record_schema():\n",
        "    # Define sub-schemas\n",
        "    address_schema = StructType([\n",
        "        StructField(\"city\", StringType(), True),\n",
        "        StructField(\"state\", StringType(), True)\n",
        "    ])\n",
        "\n",
        "    encounter_type_schema = StructType([\n",
        "        StructField(\"code\", StringType(), True),\n",
        "        StructField(\"description\", StringType(), True)\n",
        "    ])\n",
        "\n",
        "    encounter_schema = StructType([\n",
        "        StructField(\"encounter_date\", StringType(), True),\n",
        "        StructField(\"encounter_time\", StringType(), True),  # Use StringType for time\n",
        "        StructField(\"provider_id\", StringType(), True),\n",
        "        StructField(\"facility_id\", StringType(), True)\n",
        "    ])\n",
        "\n",
        "    demographics_schema = StructType([\n",
        "        StructField(\"name\", StringType(), True),\n",
        "        StructField(\"date_of_birth\", StringType(), True),\n",
        "        StructField(\"age\", IntegerType(), True),\n",
        "        StructField(\"gender\", StringType(), True),\n",
        "        StructField(\"address\", address_schema, True),\n",
        "        StructField(\"insurance\", StringType(), True)\n",
        "    ])\n",
        "\n",
        "    condition_schema = StructType([\n",
        "        StructField(\"code\", StringType(), True),\n",
        "        StructField(\"description\", StringType(), True)\n",
        "    ])\n",
        "\n",
        "    medication_schema = StructType([\n",
        "        StructField(\"code\", StringType(), True),\n",
        "        StructField(\"description\", StringType(), True)\n",
        "    ])\n",
        "\n",
        "    immunization_schema = StructType([\n",
        "        StructField(\"code\", StringType(), True),\n",
        "        StructField(\"description\", StringType(), True),\n",
        "        StructField(\"immunization_date\", StringType(), True)\n",
        "    ])\n",
        "\n",
        "    vital_measurement_schema = StructType([\n",
        "        StructField(\"code\", StringType(), True),\n",
        "        StructField(\"value\", FloatType(), True),\n",
        "        StructField(\"unit\", StringType(), True)\n",
        "    ])\n",
        "\n",
        "    blood_pressure_schema = StructType([\n",
        "        StructField(\"systolic\", vital_measurement_schema, True),\n",
        "        StructField(\"diastolic\", vital_measurement_schema, True)\n",
        "    ])\n",
        "\n",
        "    current_vitals_schema = StructType([\n",
        "        StructField(\"temperature\", vital_measurement_schema, True),\n",
        "        StructField(\"heart_rate\", vital_measurement_schema, True),\n",
        "        StructField(\"blood_pressure\", blood_pressure_schema, True),\n",
        "        StructField(\"respiratory_rate\", vital_measurement_schema, True),\n",
        "        StructField(\"oxygen_saturation\", vital_measurement_schema, True),\n",
        "        StructField(\"weight\", vital_measurement_schema, True)\n",
        "    ])\n",
        "\n",
        "    baseline_vitals_schema = StructType([\n",
        "        StructField(\"base_line_vitals_date\", StringType(), True),\n",
        "        StructField(\"height\", vital_measurement_schema, True),\n",
        "        StructField(\"weight\", vital_measurement_schema, True),\n",
        "        StructField(\"bmi\", vital_measurement_schema, True),\n",
        "        StructField(\"bmi_percentile\", vital_measurement_schema, True)\n",
        "    ])\n",
        "\n",
        "    vitals_schema = StructType([\n",
        "        StructField(\"current\", current_vitals_schema, True),\n",
        "        StructField(\"baseline\", baseline_vitals_schema, True)\n",
        "    ])\n",
        "\n",
        "    respiratory_test_schema = StructType([\n",
        "        StructField(\"code\", StringType(), True),\n",
        "        StructField(\"result\", StringType(), True)\n",
        "    ])\n",
        "\n",
        "    respiratory_panel_schema = StructType([\n",
        "        StructField(\"influenza_a\", respiratory_test_schema, True),\n",
        "        StructField(\"influenza_b\", respiratory_test_schema, True),\n",
        "        StructField(\"rsv\", respiratory_test_schema, True),\n",
        "        StructField(\"parainfluenza_1\", respiratory_test_schema, True),\n",
        "        StructField(\"parainfluenza_2\", respiratory_test_schema, True),\n",
        "        StructField(\"parainfluenza_3\", respiratory_test_schema, True),\n",
        "        StructField(\"rhinovirus\", respiratory_test_schema, True),\n",
        "        StructField(\"metapneumovirus\", respiratory_test_schema, True),\n",
        "        StructField(\"adenovirus\", respiratory_test_schema, True)\n",
        "    ])\n",
        "\n",
        "    covid19_test_schema = StructType([\n",
        "        StructField(\"code\", StringType(), True),\n",
        "        StructField(\"description\", StringType(), True),\n",
        "        StructField(\"result\", StringType(), True)\n",
        "    ])\n",
        "\n",
        "    laboratory_schema = StructType([\n",
        "        StructField(\"covid19\", covid19_test_schema, True),\n",
        "        StructField(\"respiratory_panel\", respiratory_panel_schema, True)\n",
        "    ])\n",
        "\n",
        "    procedure_schema = StructType([\n",
        "        StructField(\"code\", StringType(), True),\n",
        "        StructField(\"description\", StringType(), True),\n",
        "        StructField(\"procedure_date\", StringType(), True),\n",
        "        StructField(\"reason_code\", StringType(), True),\n",
        "        StructField(\"reason_description\", StringType(), True)\n",
        "    ])\n",
        "\n",
        "    care_plan_schema = StructType([\n",
        "        StructField(\"code\", StringType(), True),\n",
        "        StructField(\"description\", StringType(), True),\n",
        "        StructField(\"start\", StringType(), True),\n",
        "        StructField(\"stop\", StringType(), True),\n",
        "        StructField(\"reason_code\", StringType(), True),\n",
        "        StructField(\"reason_description\", StringType(), True)\n",
        "    ])\n",
        "\n",
        "    # Final patient record schema\n",
        "    patient_record_schema = StructType([\n",
        "        StructField(\"encounter\", encounter_schema, True),\n",
        "        StructField(\"demographics\", demographics_schema, True),\n",
        "        StructField(\"conditions\", ArrayType(condition_schema), True),\n",
        "        StructField(\"medications\", ArrayType(medication_schema), True),\n",
        "        StructField(\"immunizations\", ArrayType(immunization_schema), True),\n",
        "        StructField(\"vitals\", vitals_schema, True),\n",
        "        StructField(\"laboratory\", laboratory_schema, True),\n",
        "        StructField(\"procedures\", ArrayType(procedure_schema), True)\n",
        "    ])\n",
        "\n",
        "    return patient_record_schema"
      ]
    },
    {
      "cell_type": "code",
      "execution_count": null,
      "metadata": {
        "id": "nG6rZQbbLWkd"
      },
      "outputs": [],
      "source": [
        "from typing import List, Optional\n",
        "from pydantic import BaseModel, Field\n",
        "from datetime import date, datetime"
      ]
    },
    {
      "cell_type": "code",
      "execution_count": null,
      "metadata": {
        "id": "qlDBtdVbVH2U"
      },
      "outputs": [],
      "source": [
        "class Address(BaseModel):\n",
        "    city: Optional[str] = Field(None, description=\"City of the patient's residential address\")\n",
        "    state: Optional[str] = Field(None, description=\"State of the patient's residential address\")\n",
        "\n",
        "class VitalMeasurement(BaseModel):\n",
        "    code: Optional[str] = Field(None, description=\"Standardized code for the vital measurement\")\n",
        "    value: Optional[float] = Field(None, description=\"Numerical value of the measurement\")\n",
        "    unit: Optional[str] = Field(None, description=\"Unit of measurement for the vital sign\")\n",
        "\n",
        "class BloodPressure(BaseModel):\n",
        "    systolic: Optional[VitalMeasurement] = Field(None, description=\"Systolic blood pressure measurement\")\n",
        "    diastolic: Optional[VitalMeasurement] = Field(None, description=\"Diastolic blood pressure measurement\")\n",
        "\n",
        "class CurrentVitals(BaseModel):\n",
        "    temperature: Optional[VitalMeasurement] = Field(None, description=\"Patient's current body temperature measurement\")\n",
        "    heart_rate: Optional[VitalMeasurement] = Field(None, description=\"Patient's current heart rate measurement\")\n",
        "    blood_pressure: Optional[BloodPressure] = Field(None, description=\"Patient's current blood pressure reading\")\n",
        "    respiratory_rate: Optional[VitalMeasurement] = Field(None, description=\"Patient's current respiratory rate measurement\")\n",
        "    oxygen_saturation: Optional[VitalMeasurement] = Field(None, description=\"Patient's current oxygen saturation level\")\n",
        "    weight: Optional[VitalMeasurement] = Field(None, description=\"Patient's current weight measurement\")\n",
        "\n",
        "class BaselineVitals(BaseModel):\n",
        "    base_line_vitals_date: Optional[str] = Field(None, description=\"Date when baseline vitals were initially recorded\")\n",
        "    height: Optional[VitalMeasurement] = Field(None, description=\"Patient's baseline height measurement\")\n",
        "    weight: Optional[VitalMeasurement] = Field(None, description=\"Patient's baseline weight measurement\")\n",
        "    bmi: Optional[VitalMeasurement] = Field(None, description=\"Patient's baseline Body Mass Index (BMI) measurement\")\n",
        "    bmi_percentile: Optional[VitalMeasurement] = Field(None, description=\"Patient's baseline BMI percentile\")\n",
        "\n",
        "class Vitals(BaseModel):\n",
        "    current: Optional[CurrentVitals] = Field(None, description=\"Patient's most recent vital measurements\")\n",
        "    baseline: Optional[BaselineVitals] = Field(None, description=\"Patient's initial baseline vital measurements\")\n",
        "\n",
        "class RespiratoryTest(BaseModel):\n",
        "    code: Optional[str] = Field(None, description=\"Standardized code for the respiratory test\")\n",
        "    result: Optional[str] = Field(None, description=\"Result of the respiratory test (e.g., positive, negative, inconclusive)\")\n",
        "\n",
        "class RespiratoryPanel(BaseModel):\n",
        "    influenza_a: Optional[RespiratoryTest] = Field(None, description=\"Test result for Influenza A virus\")\n",
        "    influenza_b: Optional[RespiratoryTest] = Field(None, description=\"Test result for Influenza B virus\")\n",
        "    rsv: Optional[RespiratoryTest] = Field(None, description=\"Test result for Respiratory Syncytial Virus\")\n",
        "    parainfluenza_1: Optional[RespiratoryTest] = Field(None, description=\"Test result for Parainfluenza virus type 1\")\n",
        "    parainfluenza_2: Optional[RespiratoryTest] = Field(None, description=\"Test result for Parainfluenza virus type 2\")\n",
        "    parainfluenza_3: Optional[RespiratoryTest] = Field(None, description=\"Test result for Parainfluenza virus type 3\")\n",
        "    rhinovirus: Optional[RespiratoryTest] = Field(None, description=\"Test result for Rhinovirus\")\n",
        "    metapneumovirus: Optional[RespiratoryTest] = Field(None, description=\"Test result for Human Metapneumovirus\")\n",
        "    adenovirus: Optional[RespiratoryTest] = Field(None, description=\"Test result for Adenovirus\")\n",
        "\n",
        "class Covid19Test(BaseModel):\n",
        "    code: Optional[str] = Field(None, description=\"Standardized code for the COVID-19 test\")\n",
        "    description: Optional[str] = Field(None, description=\"Detailed description of the COVID-19 test performed\")\n",
        "    result: Optional[str] = Field(None, description=\"Result of the COVID-19 test (e.g., positive, negative, inconclusive)\")\n",
        "\n",
        "class Laboratory(BaseModel):\n",
        "    covid19: Optional[Covid19Test] = Field(None, description=\"COVID-19 test results\")\n",
        "    respiratory_panel: Optional[RespiratoryPanel] = Field(None, description=\"Comprehensive respiratory virus panel test results\")\n",
        "\n",
        "class Encounter(BaseModel):\n",
        "    encounter_date: Optional[str] = Field(None, description=\"Date of the medical encounter\")\n",
        "    encounter_time: Optional[datetime] = Field(None, description=\"Specific time of the medical encounter\")\n",
        "    provider_id: Optional[str] = Field(None, description=\"Unique identifier for the healthcare provider\")\n",
        "    facility_id: Optional[str] = Field(None, description=\"Unique identifier for the healthcare facility\")\n",
        "\n",
        "class Demographics(BaseModel):\n",
        "    name: Optional[str] = Field(None, description=\"Patient's full legal name\")\n",
        "    date_of_birth: Optional[str] = Field(None, description=\"Patient's date of birth\")\n",
        "    age: Optional[int] = Field(None, description=\"Patient's age in years\")\n",
        "    gender: Optional[str] = Field(None, description=\"Patient's gender as recorded in medical records\")\n",
        "    address: Optional[Address] = Field(None, description=\"Patient's residential address details\")\n",
        "    insurance: Optional[str] = Field(None, description=\"Patient's primary health insurance provider\")\n",
        "\n",
        "class Condition(BaseModel):\n",
        "    code: Optional[str] = Field(None, description=\"Standardized medical code for the diagnosed condition\")\n",
        "    description: Optional[str] = Field(None, description=\"Detailed description of the medical condition\")\n",
        "\n",
        "class Medication(BaseModel):\n",
        "    code: Optional[str] = Field(None, description=\"Standardized code for the prescribed medication\")\n",
        "    description: Optional[str] = Field(None, description=\"Detailed description of the medication\")\n",
        "\n",
        "class Immunization(BaseModel):\n",
        "    code: Optional[str] = Field(None, description=\"Standardized code for the immunization\")\n",
        "    description: Optional[str] = Field(None, description=\"Detailed description of the immunization\")\n",
        "    immunization_date: Optional[str] = Field(None, description=\"Date when the immunization was administered\")\n",
        "\n",
        "class Procedure(BaseModel):\n",
        "    code: Optional[str] = Field(None, description=\"Standardized code for the medical procedure\")\n",
        "    description: Optional[str] = Field(None, description=\"Detailed description of the medical procedure\")\n",
        "    procedure_date: Optional[str] = Field(None, description=\"Date when the procedure was performed\")\n",
        "    reason_code: Optional[str] = Field(None, description=\"Standardized code for the reason of the procedure\")\n",
        "    reason_description: Optional[str] = Field(None, description=\"Detailed description of the reason for the procedure\")\n",
        "\n",
        "class PatientRecord(BaseModel):\n",
        "    encounter: Optional[Encounter] = Field(None, description=\"Details of the patient's medical encounter\")\n",
        "    demographics: Optional[Demographics] = Field(None, description=\"Patient's demographic information\")\n",
        "    conditions: Optional[List[Condition]] = Field([], description=\"List of medical conditions diagnosed\")\n",
        "    medications: Optional[List[Medication]] = Field([], description=\"List of medications prescribed\")\n",
        "    immunizations: Optional[List[Immunization]] = Field([], description=\"List of immunizations administered\")\n",
        "    vitals: Optional[Vitals] = Field(None, description=\"Patient's vital measurements\")\n",
        "    laboratory: Optional[Laboratory] = Field(None, description=\"Laboratory test results\")\n",
        "    procedures: Optional[List[Procedure]] = Field([], description=\"List of medical procedures performed\")"
      ]
    },
    {
      "cell_type": "code",
      "execution_count": null,
      "metadata": {
        "id": "UzUxh5tYLZPi"
      },
      "outputs": [],
      "source": [
        "from datetime import date, time, datetime\n",
        "import json\n",
        "from langchain_openai import ChatOpenAI"
      ]
    },
    {
      "cell_type": "code",
      "execution_count": null,
      "metadata": {
        "id": "6oB9FZL3JWJY"
      },
      "outputs": [],
      "source": [
        "def llm_to_json(PATIENT_NOTE):\n",
        "    def custom_serializer(obj):\n",
        "        # Handle date, time, and datetime objects\n",
        "        if isinstance(obj, (date, time, datetime)):\n",
        "            return obj.isoformat()\n",
        "\n",
        "        # Handle objects with a dict method (like Pydantic models)\n",
        "        if hasattr(obj, 'dict'):\n",
        "            return obj.dict()\n",
        "\n",
        "        # If it's not a recognized type, raise a TypeError\n",
        "        raise TypeError(f\"Type {type(obj)} not serializable\")\n",
        "\n",
        "    llm = ChatOpenAI(model=\"gpt-4o-mini\", api_key=\"api\")\n",
        "    structured_llm = llm.with_structured_output(PatientRecord)\n",
        "    result = structured_llm.invoke(PATIENT_NOTE)\n",
        "\n",
        "    # Convert the result to a dictionary using the custom serializer\n",
        "    result_dict = json.loads(json.dumps(result, default=custom_serializer))\n",
        "\n",
        "    return result_dict"
      ]
    },
    {
      "cell_type": "code",
      "execution_count": null,
      "metadata": {
        "id": "L1fmEOriJWJZ"
      },
      "outputs": [],
      "source": [
        "import faiss\n",
        "import numpy as np\n",
        "import pyarrow.parquet as pq\n",
        "import pandas as pd\n",
        "\n",
        "from langchain_core.documents import Document\n",
        "from langchain_huggingface import HuggingFaceEmbeddings\n",
        "from sentence_transformers import SentenceTransformer"
      ]
    },
    {
      "cell_type": "code",
      "execution_count": null,
      "metadata": {
        "colab": {
          "base_uri": "https://localhost:8080/"
        },
        "id": "jxkatsg7VGU1",
        "outputId": "49bbfaed-6d82-47b5-e416-372cca848547"
      },
      "outputs": [
        {
          "output_type": "stream",
          "name": "stdout",
          "text": [
            "Mounted at /content/drive\n"
          ]
        }
      ],
      "source": [
        "from google.colab import drive\n",
        "drive.mount('/content/drive')"
      ]
    },
    {
      "cell_type": "code",
      "execution_count": null,
      "metadata": {
        "collapsed": true,
        "id": "LkubZic1JrUq",
        "colab": {
          "base_uri": "https://localhost:8080/"
        },
        "outputId": "78e8b597-dda7-4f2b-ac63-9cb966f97b66"
      },
      "outputs": [
        {
          "output_type": "stream",
          "name": "stderr",
          "text": [
            "/usr/local/lib/python3.10/dist-packages/huggingface_hub/utils/_auth.py:94: UserWarning: \n",
            "The secret `HF_TOKEN` does not exist in your Colab secrets.\n",
            "To authenticate with the Hugging Face Hub, create a token in your settings tab (https://huggingface.co/settings/tokens), set it as secret in your Google Colab and restart your session.\n",
            "You will be able to reuse this secret in all of your notebooks.\n",
            "Please note that authentication is recommended but still optional to access public models or datasets.\n",
            "  warnings.warn(\n"
          ]
        }
      ],
      "source": [
        "model = SentenceTransformer(\"all-MiniLM-L6-v2\")\n",
        "\n",
        "# embeddings stored in lines\n",
        "lines = []\n",
        "# iterate through each line of the medication csv file\n",
        "for i, line in enumerate(open(\"/content/drive/My Drive/data/medications_assignment_1.csv\")):\n",
        "    if i > 1:\n",
        "        # extracts medication name and creates embedding\n",
        "        embed = model.encode(line.split(\",\")[1].rstrip())\n",
        "        lines.append(embed)\n",
        "len(lines[0])\n",
        "# convert to np array\n",
        "embeds = np.array(lines)\n",
        "# normalize to improve search performance\n",
        "faiss.normalize_L2(embeds)\n",
        "\n",
        "# faiss index used to store embeddings\n",
        "# 384 is number of vectors\n",
        "embedsindex = faiss.IndexFlatIP(384)\n",
        "# add embeddings to the index\n",
        "embedsindex.add(embeds)"
      ]
    },
    {
      "cell_type": "code",
      "execution_count": null,
      "metadata": {
        "id": "37wK9Ht2zHDb"
      },
      "outputs": [],
      "source": [
        "# takes the medication from the note, finds the similar one and returns it\n",
        "def medication_encode(med_name):\n",
        "  # generate embedding\n",
        "  embed_some_med = model.encode(med_name)\n",
        "\n",
        "  # search the most similar medication based on embedding similarity\n",
        "  similar_medications = embedsindex.search(np.array([embed_some_med]), k=1)\n",
        "\n",
        "  # returns the row\n",
        "  return similar_medications[1][0]"
      ]
    },
    {
      "cell_type": "code",
      "execution_count": null,
      "metadata": {
        "colab": {
          "base_uri": "https://localhost:8080/"
        },
        "id": "lrzcGAeWhzih",
        "outputId": "5a518f55-6642-4e1d-b45c-5f4ab9d9d95c"
      },
      "outputs": [
        {
          "output_type": "stream",
          "name": "stdout",
          "text": [
            "Processing file: /content/drive/My Drive/data/encounter_notes/f73d6f41-0091-4485-8b43-9d38eb98fb36.txt\n"
          ]
        },
        {
          "output_type": "stream",
          "name": "stderr",
          "text": [
            "<ipython-input-6-e893d89d0f52>:9: PydanticDeprecatedSince20: The `dict` method is deprecated; use `model_dump` instead. Deprecated in Pydantic V2.0 to be removed in V3.0. See Pydantic V2 Migration Guide at https://errors.pydantic.dev/2.10/migration/\n",
            "  return obj.dict()\n"
          ]
        },
        {
          "output_type": "stream",
          "name": "stdout",
          "text": [
            "JSON data saved to /content/drive/My Drive/data/json_data/f73d6f41-0091-4485-8b43-9d38eb98fb36.json\n",
            "Processing file: /content/drive/My Drive/data/encounter_notes/ae9efba3-ddc4-43f9-a781-f72019388548.txt\n"
          ]
        },
        {
          "output_type": "stream",
          "name": "stderr",
          "text": [
            "<ipython-input-6-e893d89d0f52>:9: PydanticDeprecatedSince20: The `dict` method is deprecated; use `model_dump` instead. Deprecated in Pydantic V2.0 to be removed in V3.0. See Pydantic V2 Migration Guide at https://errors.pydantic.dev/2.10/migration/\n",
            "  return obj.dict()\n"
          ]
        },
        {
          "output_type": "stream",
          "name": "stdout",
          "text": [
            "996740,Memantine hydrochloride 2 MG/ML Oral Solution\n",
            "\n",
            "JSON data saved to /content/drive/My Drive/data/json_data/ae9efba3-ddc4-43f9-a781-f72019388548.json\n",
            "Processing file: /content/drive/My Drive/data/encounter_notes/28658715-b770-4576-9a81-fbb2282a98ea.txt\n"
          ]
        },
        {
          "output_type": "stream",
          "name": "stderr",
          "text": [
            "<ipython-input-6-e893d89d0f52>:9: PydanticDeprecatedSince20: The `dict` method is deprecated; use `model_dump` instead. Deprecated in Pydantic V2.0 to be removed in V3.0. See Pydantic V2 Migration Guide at https://errors.pydantic.dev/2.10/migration/\n",
            "  return obj.dict()\n"
          ]
        },
        {
          "output_type": "stream",
          "name": "stdout",
          "text": [
            "JSON data saved to /content/drive/My Drive/data/json_data/28658715-b770-4576-9a81-fbb2282a98ea.json\n",
            "Processing file: /content/drive/My Drive/data/encounter_notes/199c586f-af16-4091-9998-ee4cfc02ee7a.txt~\n"
          ]
        },
        {
          "output_type": "stream",
          "name": "stderr",
          "text": [
            "<ipython-input-6-e893d89d0f52>:9: PydanticDeprecatedSince20: The `dict` method is deprecated; use `model_dump` instead. Deprecated in Pydantic V2.0 to be removed in V3.0. See Pydantic V2 Migration Guide at https://errors.pydantic.dev/2.10/migration/\n",
            "  return obj.dict()\n"
          ]
        },
        {
          "output_type": "stream",
          "name": "stdout",
          "text": [
            "105585,Methotrexate 2.5 MG Oral Tablet\n",
            "\n",
            "JSON data saved to /content/drive/My Drive/data/json_data/199c586f-af16-4091-9998-ee4cfc02ee7a.json\n",
            "Processing file: /content/drive/My Drive/data/encounter_notes/055ae6fc-7e18-4a39-8058-64082ca6d515.txt\n"
          ]
        },
        {
          "output_type": "stream",
          "name": "stderr",
          "text": [
            "<ipython-input-6-e893d89d0f52>:9: PydanticDeprecatedSince20: The `dict` method is deprecated; use `model_dump` instead. Deprecated in Pydantic V2.0 to be removed in V3.0. See Pydantic V2 Migration Guide at https://errors.pydantic.dev/2.10/migration/\n",
            "  return obj.dict()\n"
          ]
        },
        {
          "output_type": "stream",
          "name": "stdout",
          "text": [
            "JSON data saved to /content/drive/My Drive/data/json_data/055ae6fc-7e18-4a39-8058-64082ca6d515.json\n",
            "Processing file: /content/drive/My Drive/data/encounter_notes/f0f3bc8d-ef38-49ce-a2bd-dfdda982b271.txt\n"
          ]
        },
        {
          "output_type": "stream",
          "name": "stderr",
          "text": [
            "<ipython-input-6-e893d89d0f52>:9: PydanticDeprecatedSince20: The `dict` method is deprecated; use `model_dump` instead. Deprecated in Pydantic V2.0 to be removed in V3.0. See Pydantic V2 Migration Guide at https://errors.pydantic.dev/2.10/migration/\n",
            "  return obj.dict()\n"
          ]
        },
        {
          "output_type": "stream",
          "name": "stdout",
          "text": [
            "JSON data saved to /content/drive/My Drive/data/json_data/f0f3bc8d-ef38-49ce-a2bd-dfdda982b271.json\n",
            "Processing file: /content/drive/My Drive/data/encounter_notes/b9fd2dd8-181b-494b-ab15-e9f286d668d9.txt\n"
          ]
        },
        {
          "output_type": "stream",
          "name": "stderr",
          "text": [
            "<ipython-input-6-e893d89d0f52>:9: PydanticDeprecatedSince20: The `dict` method is deprecated; use `model_dump` instead. Deprecated in Pydantic V2.0 to be removed in V3.0. See Pydantic V2 Migration Guide at https://errors.pydantic.dev/2.10/migration/\n",
            "  return obj.dict()\n"
          ]
        },
        {
          "output_type": "stream",
          "name": "stdout",
          "text": [
            "JSON data saved to /content/drive/My Drive/data/json_data/b9fd2dd8-181b-494b-ab15-e9f286d668d9.json\n",
            "Processing file: /content/drive/My Drive/data/encounter_notes/353016ea-a0ff-4154-85bb-1cf8b6cedf20.txt\n"
          ]
        },
        {
          "output_type": "stream",
          "name": "stderr",
          "text": [
            "<ipython-input-6-e893d89d0f52>:9: PydanticDeprecatedSince20: The `dict` method is deprecated; use `model_dump` instead. Deprecated in Pydantic V2.0 to be removed in V3.0. See Pydantic V2 Migration Guide at https://errors.pydantic.dev/2.10/migration/\n",
            "  return obj.dict()\n"
          ]
        },
        {
          "output_type": "stream",
          "name": "stdout",
          "text": [
            "1732186,100 ML Epirubicin Hydrochloride 2 MG/ML Injection\n",
            "\n",
            "JSON data saved to /content/drive/My Drive/data/json_data/353016ea-a0ff-4154-85bb-1cf8b6cedf20.json\n",
            "Processing file: /content/drive/My Drive/data/encounter_notes/df6b563d-1ff4-4833-9af8-84431e641e9c.txt\n"
          ]
        },
        {
          "output_type": "stream",
          "name": "stderr",
          "text": [
            "<ipython-input-6-e893d89d0f52>:9: PydanticDeprecatedSince20: The `dict` method is deprecated; use `model_dump` instead. Deprecated in Pydantic V2.0 to be removed in V3.0. See Pydantic V2 Migration Guide at https://errors.pydantic.dev/2.10/migration/\n",
            "  return obj.dict()\n"
          ]
        },
        {
          "output_type": "stream",
          "name": "stdout",
          "text": [
            "313820,Acetaminophen 160 MG Chewable Tablet\n",
            "\n",
            "861467,Meperidine Hydrochloride 50 MG Oral Tablet\n",
            "\n",
            "JSON data saved to /content/drive/My Drive/data/json_data/df6b563d-1ff4-4833-9af8-84431e641e9c.json\n",
            "Processing file: /content/drive/My Drive/data/encounter_notes/199c586f-af16-4091-9998-ee4cfc02ee7a.txt\n"
          ]
        },
        {
          "output_type": "stream",
          "name": "stderr",
          "text": [
            "<ipython-input-6-e893d89d0f52>:9: PydanticDeprecatedSince20: The `dict` method is deprecated; use `model_dump` instead. Deprecated in Pydantic V2.0 to be removed in V3.0. See Pydantic V2 Migration Guide at https://errors.pydantic.dev/2.10/migration/\n",
            "  return obj.dict()\n"
          ]
        },
        {
          "output_type": "stream",
          "name": "stdout",
          "text": [
            "105585,Methotrexate 2.5 MG Oral Tablet\n",
            "\n",
            "JSON data saved to /content/drive/My Drive/data/json_data/199c586f-af16-4091-9998-ee4cfc02ee7a.json\n",
            "Processing file: /content/drive/My Drive/data/encounter_notes/d22592ac-552f-4ecd-a63d-7663d77ce9ba.txt\n",
            "JSON data saved to /content/drive/My Drive/data/json_data/d22592ac-552f-4ecd-a63d-7663d77ce9ba.json\n"
          ]
        },
        {
          "output_type": "stream",
          "name": "stderr",
          "text": [
            "<ipython-input-6-e893d89d0f52>:9: PydanticDeprecatedSince20: The `dict` method is deprecated; use `model_dump` instead. Deprecated in Pydantic V2.0 to be removed in V3.0. See Pydantic V2 Migration Guide at https://errors.pydantic.dev/2.10/migration/\n",
            "  return obj.dict()\n"
          ]
        }
      ],
      "source": [
        "import os\n",
        "import json\n",
        "from pyspark.sql import SparkSession\n",
        "\n",
        "# Create a SparkSession\n",
        "spark = SparkSession.builder.appName(\"PatientRecordProcessing\").getOrCreate()\n",
        "\n",
        "# Directory containing the patient notes\n",
        "directory_path = '/content/drive/My Drive/data/encounter_notes'\n",
        "json_directory = '/content/drive/My Drive/data/json_data'\n",
        "parquet_directory = '/content/drive/My Drive/data/parquet_data'\n",
        "\n",
        "if not os.path.exists(json_directory):\n",
        "    os.makedirs(json_directory)\n",
        "if not os.path.exists(parquet_directory):\n",
        "    os.makedirs(parquet_directory)\n",
        "\n",
        "# Loop through each file in the directory\n",
        "# loops through each encouter note\n",
        "for filename in os.listdir(directory_path):\n",
        "    file_path = os.path.join(directory_path, filename)\n",
        "    if os.path.isfile(file_path):\n",
        "        print(f\"Processing file: {file_path}\")\n",
        "        with open(file_path, 'r') as file:\n",
        "            content = file.read()\n",
        "            coded_medications = []\n",
        "            # convert to json\n",
        "            res = llm_to_json(content)\n",
        "            # get list of meds\n",
        "            meds = res.get(\"medications\")\n",
        "            # go through list of meds\n",
        "            for med in meds:\n",
        "              med_name = med.get(\"description\")\n",
        "              if med_name:\n",
        "                # find most similar medication\n",
        "                row = medication_encode(med_name)\n",
        "                # take the most similar medication and gets the code and description\n",
        "                for i, line in enumerate(open(\"/content/drive/My Drive/data/medications_assignment_1.csv\")):\n",
        "                  if i + 2 == row:\n",
        "                    print(line)\n",
        "                    code = line.split(\",\")[0]\n",
        "                    description = line.split(\",\")[1].rstrip()\n",
        "                    coded_medications.append({'code': code, 'description': description})\n",
        "\n",
        "            res['medications'] = coded_medications\n",
        "            # create schema to convert to spark dataframe\n",
        "            schema = create_patient_record_schema()\n",
        "            df = spark.createDataFrame([res], schema=schema)\n",
        "            # convert to json file\n",
        "            new_filename = f\"{filename.split('.')[0]}.json\"\n",
        "            output_json_path = os.path.join(json_directory, new_filename)\n",
        "            with open(output_json_path, 'w') as json_file:\n",
        "                json.dump(res, json_file, indent=2)\n",
        "            print(f\"JSON data saved to {output_json_path}\")"
      ]
    },
    {
      "cell_type": "code",
      "source": [
        "#print(json.dumps(res, indent=2))"
      ],
      "metadata": {
        "id": "AxctDjcHJc1N"
      },
      "execution_count": null,
      "outputs": []
    },
    {
      "cell_type": "code",
      "source": [
        "df.printSchema()"
      ],
      "metadata": {
        "colab": {
          "base_uri": "https://localhost:8080/"
        },
        "id": "zmWYk58nJhaK",
        "outputId": "cb411fe7-426a-48af-c5fb-ae742197e0b3"
      },
      "execution_count": null,
      "outputs": [
        {
          "output_type": "stream",
          "name": "stdout",
          "text": [
            "root\n",
            " |-- encounter: struct (nullable = true)\n",
            " |    |-- encounter_date: string (nullable = true)\n",
            " |    |-- encounter_time: string (nullable = true)\n",
            " |    |-- provider_id: string (nullable = true)\n",
            " |    |-- facility_id: string (nullable = true)\n",
            " |-- demographics: struct (nullable = true)\n",
            " |    |-- name: string (nullable = true)\n",
            " |    |-- date_of_birth: string (nullable = true)\n",
            " |    |-- age: integer (nullable = true)\n",
            " |    |-- gender: string (nullable = true)\n",
            " |    |-- address: struct (nullable = true)\n",
            " |    |    |-- city: string (nullable = true)\n",
            " |    |    |-- state: string (nullable = true)\n",
            " |    |-- insurance: string (nullable = true)\n",
            " |-- conditions: array (nullable = true)\n",
            " |    |-- element: struct (containsNull = true)\n",
            " |    |    |-- code: string (nullable = true)\n",
            " |    |    |-- description: string (nullable = true)\n",
            " |-- medications: array (nullable = true)\n",
            " |    |-- element: struct (containsNull = true)\n",
            " |    |    |-- code: string (nullable = true)\n",
            " |    |    |-- description: string (nullable = true)\n",
            " |-- immunizations: array (nullable = true)\n",
            " |    |-- element: struct (containsNull = true)\n",
            " |    |    |-- code: string (nullable = true)\n",
            " |    |    |-- description: string (nullable = true)\n",
            " |    |    |-- immunization_date: string (nullable = true)\n",
            " |-- vitals: struct (nullable = true)\n",
            " |    |-- current: struct (nullable = true)\n",
            " |    |    |-- temperature: struct (nullable = true)\n",
            " |    |    |    |-- code: string (nullable = true)\n",
            " |    |    |    |-- value: float (nullable = true)\n",
            " |    |    |    |-- unit: string (nullable = true)\n",
            " |    |    |-- heart_rate: struct (nullable = true)\n",
            " |    |    |    |-- code: string (nullable = true)\n",
            " |    |    |    |-- value: float (nullable = true)\n",
            " |    |    |    |-- unit: string (nullable = true)\n",
            " |    |    |-- blood_pressure: struct (nullable = true)\n",
            " |    |    |    |-- systolic: struct (nullable = true)\n",
            " |    |    |    |    |-- code: string (nullable = true)\n",
            " |    |    |    |    |-- value: float (nullable = true)\n",
            " |    |    |    |    |-- unit: string (nullable = true)\n",
            " |    |    |    |-- diastolic: struct (nullable = true)\n",
            " |    |    |    |    |-- code: string (nullable = true)\n",
            " |    |    |    |    |-- value: float (nullable = true)\n",
            " |    |    |    |    |-- unit: string (nullable = true)\n",
            " |    |    |-- respiratory_rate: struct (nullable = true)\n",
            " |    |    |    |-- code: string (nullable = true)\n",
            " |    |    |    |-- value: float (nullable = true)\n",
            " |    |    |    |-- unit: string (nullable = true)\n",
            " |    |    |-- oxygen_saturation: struct (nullable = true)\n",
            " |    |    |    |-- code: string (nullable = true)\n",
            " |    |    |    |-- value: float (nullable = true)\n",
            " |    |    |    |-- unit: string (nullable = true)\n",
            " |    |    |-- weight: struct (nullable = true)\n",
            " |    |    |    |-- code: string (nullable = true)\n",
            " |    |    |    |-- value: float (nullable = true)\n",
            " |    |    |    |-- unit: string (nullable = true)\n",
            " |    |-- baseline: struct (nullable = true)\n",
            " |    |    |-- base_line_vitals_date: string (nullable = true)\n",
            " |    |    |-- height: struct (nullable = true)\n",
            " |    |    |    |-- code: string (nullable = true)\n",
            " |    |    |    |-- value: float (nullable = true)\n",
            " |    |    |    |-- unit: string (nullable = true)\n",
            " |    |    |-- weight: struct (nullable = true)\n",
            " |    |    |    |-- code: string (nullable = true)\n",
            " |    |    |    |-- value: float (nullable = true)\n",
            " |    |    |    |-- unit: string (nullable = true)\n",
            " |    |    |-- bmi: struct (nullable = true)\n",
            " |    |    |    |-- code: string (nullable = true)\n",
            " |    |    |    |-- value: float (nullable = true)\n",
            " |    |    |    |-- unit: string (nullable = true)\n",
            " |    |    |-- bmi_percentile: struct (nullable = true)\n",
            " |    |    |    |-- code: string (nullable = true)\n",
            " |    |    |    |-- value: float (nullable = true)\n",
            " |    |    |    |-- unit: string (nullable = true)\n",
            " |-- laboratory: struct (nullable = true)\n",
            " |    |-- covid19: struct (nullable = true)\n",
            " |    |    |-- code: string (nullable = true)\n",
            " |    |    |-- description: string (nullable = true)\n",
            " |    |    |-- result: string (nullable = true)\n",
            " |    |-- respiratory_panel: struct (nullable = true)\n",
            " |    |    |-- influenza_a: struct (nullable = true)\n",
            " |    |    |    |-- code: string (nullable = true)\n",
            " |    |    |    |-- result: string (nullable = true)\n",
            " |    |    |-- influenza_b: struct (nullable = true)\n",
            " |    |    |    |-- code: string (nullable = true)\n",
            " |    |    |    |-- result: string (nullable = true)\n",
            " |    |    |-- rsv: struct (nullable = true)\n",
            " |    |    |    |-- code: string (nullable = true)\n",
            " |    |    |    |-- result: string (nullable = true)\n",
            " |    |    |-- parainfluenza_1: struct (nullable = true)\n",
            " |    |    |    |-- code: string (nullable = true)\n",
            " |    |    |    |-- result: string (nullable = true)\n",
            " |    |    |-- parainfluenza_2: struct (nullable = true)\n",
            " |    |    |    |-- code: string (nullable = true)\n",
            " |    |    |    |-- result: string (nullable = true)\n",
            " |    |    |-- parainfluenza_3: struct (nullable = true)\n",
            " |    |    |    |-- code: string (nullable = true)\n",
            " |    |    |    |-- result: string (nullable = true)\n",
            " |    |    |-- rhinovirus: struct (nullable = true)\n",
            " |    |    |    |-- code: string (nullable = true)\n",
            " |    |    |    |-- result: string (nullable = true)\n",
            " |    |    |-- metapneumovirus: struct (nullable = true)\n",
            " |    |    |    |-- code: string (nullable = true)\n",
            " |    |    |    |-- result: string (nullable = true)\n",
            " |    |    |-- adenovirus: struct (nullable = true)\n",
            " |    |    |    |-- code: string (nullable = true)\n",
            " |    |    |    |-- result: string (nullable = true)\n",
            " |-- procedures: array (nullable = true)\n",
            " |    |-- element: struct (containsNull = true)\n",
            " |    |    |-- code: string (nullable = true)\n",
            " |    |    |-- description: string (nullable = true)\n",
            " |    |    |-- procedure_date: string (nullable = true)\n",
            " |    |    |-- reason_code: string (nullable = true)\n",
            " |    |    |-- reason_description: string (nullable = true)\n",
            "\n"
          ]
        }
      ]
    },
    {
      "cell_type": "code",
      "source": [
        "pd.set_option('display.max_columns', None)  # Show all columns\n",
        "pd.set_option('display.max_rows', None)     # Show all rows\n",
        "pd.set_option('display.max_colwidth', None) # Show full content of each cell"
      ],
      "metadata": {
        "id": "BPXCOpgPglqg"
      },
      "execution_count": null,
      "outputs": []
    },
    {
      "cell_type": "code",
      "execution_count": null,
      "metadata": {
        "id": "4RjymXImbjUH"
      },
      "outputs": [],
      "source": [
        "import matplotlib.pyplot as plt\n",
        "from pyspark.sql.functions import col, when, count\n",
        "from pyspark.sql import functions as F\n",
        "from pyspark.sql.window import Window"
      ]
    },
    {
      "cell_type": "code",
      "source": [
        "parsed_notes = '/content/drive/My Drive/data/parsed_notes.jsonl'"
      ],
      "metadata": {
        "id": "-5Z7xtbcHIOK"
      },
      "execution_count": null,
      "outputs": []
    },
    {
      "cell_type": "markdown",
      "source": [
        "Analysis 1: COVID-19 Case Demographics: Case breakdown by age ranges ([0-5], [6-10], [11-17], [18-30], [31-50], [51-70], [71+])"
      ],
      "metadata": {
        "id": "EUwkXKySGNFF"
      }
    },
    {
      "cell_type": "code",
      "source": [
        "df = spark.read.json(parsed_notes)\n",
        "df = df.withColumn(\"age\", col(\"demographics\").getItem(\"age\"))\n",
        "\n",
        "df = df.withColumn(\"age_range\",\n",
        "    when((col(\"age\") >= 0) & (col(\"age\") <= 5), \"[0-5]\")\n",
        "    .when((col(\"age\") >= 6) & (col(\"age\") <= 10), \"[6-10]\")\n",
        "    .when((col(\"age\") >= 11) & (col(\"age\") <= 17), \"[11-17]\")\n",
        "    .when((col(\"age\") >= 18) & (col(\"age\") <= 30), \"[18-30]\")\n",
        "    .when((col(\"age\") >= 31) & (col(\"age\") <= 50), \"[31-50]\")\n",
        "    .when((col(\"age\") >= 51) & (col(\"age\") <= 70), \"[51-70]\")\n",
        "    .otherwise(\"[71+]\"))"
      ],
      "metadata": {
        "id": "YzoMrYSYFjrB"
      },
      "execution_count": null,
      "outputs": []
    },
    {
      "cell_type": "code",
      "source": [
        "covid_cases = df.filter(\n",
        "    col(\"laboratory\").getItem(\"covid19\").getItem(\"result\").contains('detected (qualifier value)')\n",
        ")\n",
        "#covid_cases.show()"
      ],
      "metadata": {
        "id": "c5G_GDIEGaCz"
      },
      "execution_count": null,
      "outputs": []
    },
    {
      "cell_type": "code",
      "source": [
        "age_distribution = covid_cases.groupBy(\"age_range\").count().withColumnRenamed(\"count\", \"case_count\").sort(\"age_range\")\n",
        "age_distribution.show()"
      ],
      "metadata": {
        "colab": {
          "base_uri": "https://localhost:8080/"
        },
        "id": "XOlsy3WGGd5L",
        "outputId": "c374b15c-a286-4312-bf33-cc6b1d72a690"
      },
      "execution_count": null,
      "outputs": [
        {
          "output_type": "stream",
          "name": "stdout",
          "text": [
            "+---------+----------+\n",
            "|age_range|case_count|\n",
            "+---------+----------+\n",
            "|    [0-5]|         3|\n",
            "|  [11-17]|        14|\n",
            "|  [18-30]|        44|\n",
            "|  [31-50]|        73|\n",
            "|  [51-70]|       121|\n",
            "|   [6-10]|         9|\n",
            "|    [71+]|        50|\n",
            "+---------+----------+\n",
            "\n"
          ]
        }
      ]
    },
    {
      "cell_type": "code",
      "execution_count": null,
      "metadata": {
        "id": "snDDXotqbglP",
        "colab": {
          "base_uri": "https://localhost:8080/",
          "height": 490
        },
        "outputId": "8f8f3f99-f811-40af-d2e1-180b8cffd69d"
      },
      "outputs": [
        {
          "output_type": "display_data",
          "data": {
            "text/plain": [
              "<Figure size 800x600 with 0 Axes>"
            ]
          },
          "metadata": {}
        },
        {
          "output_type": "display_data",
          "data": {
            "text/plain": [
              "<Figure size 640x480 with 1 Axes>"
            ],
            "image/png": "[encoded data removed]"
          },
          "metadata": {}
        }
      ],
      "source": [
        "age_distribution_pd = age_distribution.toPandas()\n",
        "plt.figure(figsize=(8,6))\n",
        "age_distribution_pd.plot(kind='bar', x='age_range')\n",
        "plt.title('COVID-19 Case Demographics by Age Group')\n",
        "plt.xlabel('Age Group')\n",
        "plt.ylabel('Number of Cases')\n",
        "plt.xticks(rotation=0)\n",
        "plt.show()"
      ]
    },
    {
      "cell_type": "markdown",
      "source": [
        "Analysis 2: Cumulative case count of Covid between the earliest case observed in the dataset and last case observed"
      ],
      "metadata": {
        "id": "trV1Qd_AGqq9"
      }
    },
    {
      "cell_type": "code",
      "execution_count": null,
      "metadata": {
        "id": "OJvHxuiwUIlP"
      },
      "outputs": [],
      "source": [
        "df = spark.read.json(parsed_notes)\n",
        "\n",
        "df = df.withColumn(\n",
        "    'covid_result',\n",
        "    F.lower(F.col('laboratory')['covid19']['result']).cast(StringType())\n",
        ")"
      ]
    },
    {
      "cell_type": "code",
      "source": [
        "covid_cases = df.filter(df['covid_result'].isin(['detected (qualifier value)']))\n",
        "#covid_cases.show()"
      ],
      "metadata": {
        "id": "M2zzZ4LOgvQM"
      },
      "execution_count": null,
      "outputs": []
    },
    {
      "cell_type": "code",
      "source": [
        "covid_cases = covid_cases.withColumn(\n",
        "    'encounter_date',\n",
        "    F.to_date(F.col('encounter')['date'], 'yyyy-MM-dd')\n",
        ")\n",
        "#covid_cases.show()"
      ],
      "metadata": {
        "id": "Io_ZKPC5g1YO"
      },
      "execution_count": null,
      "outputs": []
    },
    {
      "cell_type": "code",
      "source": [
        "latest_case_date = covid_cases.agg(F.max('encounter_date')).collect()[0][0]\n",
        "#latest_case_date.show()"
      ],
      "metadata": {
        "id": "vCzZly9Wg7pZ"
      },
      "execution_count": null,
      "outputs": []
    },
    {
      "cell_type": "code",
      "source": [
        "daily_case_counts = covid_cases.groupBy('encounter_date').count()\n",
        "#daily_case_counts.show()"
      ],
      "metadata": {
        "id": "_LGDwDaYhB-O"
      },
      "execution_count": null,
      "outputs": []
    },
    {
      "cell_type": "code",
      "source": [
        "daily_case_counts = daily_case_counts.orderBy('encounter_date')\n",
        "#daily_case_counts.show()"
      ],
      "metadata": {
        "id": "y3c94eXrhNwE"
      },
      "execution_count": null,
      "outputs": []
    },
    {
      "cell_type": "code",
      "source": [
        "daily_case_counts = daily_case_counts.withColumn(\n",
        "    'cumulative_case_count',\n",
        "    F.sum('count').over(Window.orderBy('encounter_date'))\n",
        ")\n",
        "#daily_case_counts.show()"
      ],
      "metadata": {
        "id": "HeYrFq3ghWWO"
      },
      "execution_count": null,
      "outputs": []
    },
    {
      "cell_type": "code",
      "source": [
        "print(f\"Latest case date: {latest_case_date}\")"
      ],
      "metadata": {
        "colab": {
          "base_uri": "https://localhost:8080/"
        },
        "id": "Ew9T0ltnhaIw",
        "outputId": "86d7fa56-f404-427a-9b95-871e5fe6fa06"
      },
      "execution_count": null,
      "outputs": [
        {
          "output_type": "stream",
          "name": "stdout",
          "text": [
            "Latest case date: 2020-05-26\n"
          ]
        }
      ]
    },
    {
      "cell_type": "code",
      "source": [
        "daily_case_counts_pd = daily_case_counts.toPandas()\n",
        "plt.figure(figsize=(8,6))\n",
        "plt.plot(\n",
        "    daily_case_counts_pd['encounter_date'],\n",
        "    daily_case_counts_pd['cumulative_case_count'],\n",
        ")\n",
        "plt.title('Cumulative COVID-19 Cases Over Time')\n",
        "plt.xlabel('Date')\n",
        "plt.ylabel('Cumulative Case Count')\n",
        "plt.xticks(rotation=90)\n",
        "plt.show()"
      ],
      "metadata": {
        "colab": {
          "base_uri": "https://localhost:8080/",
          "height": 630
        },
        "id": "l9B5wSJg0-Ny",
        "outputId": "c8951082-6890-446f-80d4-5bfbb9231c0d"
      },
      "execution_count": null,
      "outputs": [
        {
          "output_type": "display_data",
          "data": {
            "text/plain": [
              "<Figure size 800x600 with 1 Axes>"
            ],
            "image/png": "[encoded data removed]"
          },
          "metadata": {}
        }
      ]
    },
    {
      "cell_type": "markdown",
      "source": [
        "Analysis 3: Rank medications by frequency of prescription"
      ],
      "metadata": {
        "id": "3Bu-meCeIRDJ"
      }
    },
    {
      "cell_type": "code",
      "execution_count": null,
      "metadata": {
        "id": "kb6h66lLUIi_"
      },
      "outputs": [],
      "source": [
        "df = spark.read.json(parsed_notes)\n",
        "\n",
        "medication_names = df.select(F.explode(F.col('medications')).alias('medication'))\n",
        "medication_names = medication_names.select(F.col('medication.description').alias('medication_name'))\n",
        "#medication_names.show()"
      ]
    },
    {
      "cell_type": "code",
      "source": [
        "medication_counts = medication_names.groupBy('medication_name').count().withColumnRenamed('count', 'prescription_count')\n",
        "medication_counts = medication_counts.orderBy(F.desc('prescription_count'))\n",
        "#medication_counts.show()"
      ],
      "metadata": {
        "id": "V5XtL3G-h4EN"
      },
      "execution_count": null,
      "outputs": []
    },
    {
      "cell_type": "code",
      "source": [
        "window_spec = Window.orderBy(F.desc('prescription_count'))\n",
        "medication_counts_with_rank = medication_counts.withColumn('rank', F.row_number().over(window_spec))\n",
        "medication_counts_with_rank.show()"
      ],
      "metadata": {
        "colab": {
          "base_uri": "https://localhost:8080/"
        },
        "id": "64qdAZiZh93G",
        "outputId": "6306f3d8-d768-46c2-f970-45a51cfcf513"
      },
      "execution_count": null,
      "outputs": [
        {
          "output_type": "stream",
          "name": "stdout",
          "text": [
            "+--------------------+------------------+----+\n",
            "|     medication_name|prescription_count|rank|\n",
            "+--------------------+------------------+----+\n",
            "|Acetaminophen 500...|               302|   1|\n",
            "|0.4 ML Enoxaparin...|               291|   2|\n",
            "|1 ML Epoetin Alfa...|               214|   3|\n",
            "|1 ML Enoxaparin s...|               174|   4|\n",
            "|NDA020503 200 ACT...|               165|   5|\n",
            "|insulin human  is...|                88|   6|\n",
            "|Simvastatin 10 MG...|                83|   7|\n",
            "|Hydrochlorothiazi...|                82|   8|\n",
            "|24 HR Metformin h...|                69|   9|\n",
            "|amLODIPine 5 MG /...|                52|  10|\n",
            "|Atenolol 50 MG / ...|                50|  11|\n",
            "|120 ACTUAT Flutic...|                49|  12|\n",
            "|Acetaminophen 325...|                46|  13|\n",
            "|Digoxin 0.125 MG ...|                36|  14|\n",
            "|Verapamil Hydroch...|                36|  15|\n",
            "|Warfarin Sodium 5...|                36|  16|\n",
            "|Clopidogrel 75 MG...|                35|  17|\n",
            "|Simvastatin 20 MG...|                31|  18|\n",
            "|Amlodipine 5 MG O...|                31|  19|\n",
            "|Nitroglycerin 0.4...|                31|  20|\n",
            "+--------------------+------------------+----+\n",
            "only showing top 20 rows\n",
            "\n"
          ]
        }
      ]
    },
    {
      "cell_type": "markdown",
      "source": [
        "Analysis 4: Analyze medication patterns across different demographic groups (e.g., top 3 per age group)\n"
      ],
      "metadata": {
        "id": "Qv7UOFlLJizX"
      }
    },
    {
      "cell_type": "code",
      "execution_count": null,
      "metadata": {
        "id": "SQDMdFFiUIg6"
      },
      "outputs": [],
      "source": [
        "df = spark.read.json(parsed_notes)\n",
        "df = df.withColumn(\"age\", F.col(\"demographics\").getItem(\"age\"))\n",
        "\n",
        "df = df.withColumn(\"age_range\",\n",
        "    F.when((F.col(\"age\") >= 0) & (F.col(\"age\") <= 5), \"[0-5]\")\n",
        "    .when((F.col(\"age\") >= 6) & (F.col(\"age\") <= 10), \"[6-10]\")\n",
        "    .when((F.col(\"age\") >= 11) & (F.col(\"age\") <= 17), \"[11-17]\")\n",
        "    .when((F.col(\"age\") >= 18) & (F.col(\"age\") <= 30), \"[18-30]\")\n",
        "    .when((F.col(\"age\") >= 31) & (F.col(\"age\") <= 50), \"[31-50]\")\n",
        "    .when((F.col(\"age\") >= 51) & (F.col(\"age\") <= 70), \"[51-70]\")\n",
        "    .otherwise(\"[71+]\"))"
      ]
    },
    {
      "cell_type": "code",
      "source": [
        "medication_names = df.withColumn(\"medication\", F.explode(F.col(\"medications\"))).select(\n",
        "    F.col(\"medication.description\").alias(\"medication_name\"),\n",
        "    F.col(\"age_range\")\n",
        ")\n",
        "#medication_names.show()"
      ],
      "metadata": {
        "id": "yShug0IEiMLt"
      },
      "execution_count": null,
      "outputs": []
    },
    {
      "cell_type": "code",
      "source": [
        "medication_counts = medication_names.groupBy(\"age_range\", \"medication_name\").count()\n",
        "#medication_counts.show()"
      ],
      "metadata": {
        "id": "8IAEXRqoiQIN"
      },
      "execution_count": null,
      "outputs": []
    },
    {
      "cell_type": "code",
      "source": [
        "window_spec = Window.partitionBy(\"age_range\").orderBy(F.desc(\"count\"))\n",
        "\n",
        "medication_counts_with_rank = medication_counts.withColumn(\"rank\", F.row_number().over(window_spec))\n",
        "#medication_counts_with_rank.show()"
      ],
      "metadata": {
        "id": "Xa1KhAguiXrm"
      },
      "execution_count": null,
      "outputs": []
    },
    {
      "cell_type": "code",
      "source": [
        "top_medications = medication_counts_with_rank.filter(F.col(\"rank\") <= 3).sort(\"age_range\")\n",
        "#top_medications.show()"
      ],
      "metadata": {
        "id": "I5sWiqANigFv"
      },
      "execution_count": null,
      "outputs": []
    },
    {
      "cell_type": "code",
      "source": [
        "top_medications_pd = top_medications.toPandas()\n",
        "\n",
        "fig, ax = plt.subplots(figsize=(8, 6))\n",
        "age_colors = {\n",
        "    '[0-5]': 'blue',\n",
        "    '[6-10]': 'green',\n",
        "    '[11-17]': 'red',\n",
        "    '[18-30]': 'yellow',\n",
        "    '[31-50]': 'pink',\n",
        "    '[51-70]': 'orange',\n",
        "    '[71+]': 'purple'\n",
        "}\n",
        "\n",
        "for age_range in top_medications_pd['age_range'].unique():\n",
        "    age_data = top_medications_pd[top_medications_pd['age_range'] == age_range]\n",
        "\n",
        "    ax.barh(age_data['medication_name'], age_data['count'],\n",
        "            label=f'Age Range: {age_range}',\n",
        "            color=age_colors.get(age_range, 'gray'))\n",
        "\n",
        "plt.xlabel('Count')\n",
        "plt.ylabel('Medication Name')\n",
        "plt.title('Top 3 Medications per Age Group')\n",
        "plt.legend(title=\"Age Range\")\n",
        "\n",
        "plt.show()"
      ],
      "metadata": {
        "colab": {
          "base_uri": "https://localhost:8080/",
          "height": 381
        },
        "id": "w06qH_yONhL4",
        "outputId": "2148c972-7ea9-4672-cbbe-2b5ed5886f96"
      },
      "execution_count": null,
      "outputs": [
        {
          "output_type": "display_data",
          "data": {
            "text/plain": [
              "<Figure size 800x600 with 1 Axes>"
            ],
            "image/png": "[encoded data removed]"
          },
          "metadata": {}
        }
      ]
    },
    {
      "cell_type": "markdown",
      "source": [
        "Analysis 5: Identify and plot co-morbidity information from the patient records (e.g., hypertension, obesity, prediabetes, etc.) provided in the dataset.\n"
      ],
      "metadata": {
        "id": "bh5vVKhnft5d"
      }
    },
    {
      "cell_type": "code",
      "execution_count": null,
      "metadata": {
        "id": "fAi5U_CyUIex",
        "colab": {
          "base_uri": "https://localhost:8080/",
          "height": 607
        },
        "outputId": "ddde0323-2aa1-41fd-ac9c-63587b16b074"
      },
      "outputs": [
        {
          "output_type": "display_data",
          "data": {
            "text/plain": [
              "<Figure size 1200x600 with 1 Axes>"
            ],
            "image/png": "[encoded data removed]"
          },
          "metadata": {}
        }
      ],
      "source": [
        "# Identify and plot co-morbidity information from the patient records (e.g., hypertension, obesity, prediabetes, etc.) provided in the dataset.\n",
        "from pyspark.sql.functions import explode, col, count\n",
        "df = spark.read.json(parsed_notes)\n",
        "\n",
        "conditions_df = df.select(explode(col(\"conditions\")).alias(\"condition\"))\n",
        "\n",
        "# Extract description and count frequencies\n",
        "condition_counts = (conditions_df\n",
        "    .groupBy(\"condition.description\")\n",
        "    .count()\n",
        "    .orderBy(\"count\", ascending=False)\n",
        "    .limit(10)\n",
        ")\n",
        "\n",
        "# Collect results to local list for plotting\n",
        "results = condition_counts.collect()\n",
        "\n",
        "# Prepare data for plotting\n",
        "descriptions = [row['description'] for row in results]\n",
        "counts = [row['count'] for row in results]\n",
        "\n",
        "plt.figure(figsize=(12, 6))\n",
        "plt.bar(descriptions, counts)\n",
        "plt.title('Top 10 Most Frequent Conditions', fontsize=15)\n",
        "plt.xlabel('Condition', fontsize=12)\n",
        "plt.ylabel('Frequency', fontsize=12)\n",
        "plt.xticks(rotation=45, ha='right')\n",
        "plt.tight_layout()\n",
        "plt.show()\n"
      ]
    },
    {
      "cell_type": "markdown",
      "source": [
        "Independent group analysis 1: 1. Correlation between insurance coverage and immunizations and procedures\n",
        "\n",
        "I think this is valuable because insurance helps cover costs of healthcare. It also determines if an individual is willing to go to the doctors and has an impact of what immunizations and procedures they will take.\n"
      ],
      "metadata": {
        "id": "1r7_iAEBfz2L"
      }
    },
    {
      "cell_type": "code",
      "execution_count": null,
      "metadata": {
        "id": "Nn-4cKQQUIcp"
      },
      "outputs": [],
      "source": [
        "# replace empty fields with \"No Insurance\"\n",
        "df = spark.read.json(parsed_notes)\n",
        "insurance_data = df.withColumn(\n",
        "    \"insurance_filled\",\n",
        "    F.when(F.col(\"demographics.insurance\") == \"\", \"No Insurance\")\n",
        "     .otherwise(F.col(\"demographics.insurance\"))\n",
        ")\n",
        "#insurance_data.show()\n",
        "#insurance_data.select(\"insurance_filled\").distinct().show()"
      ]
    },
    {
      "cell_type": "code",
      "source": [
        "processed_data = insurance_data.withColumn(\n",
        "    \"has_immunizations\", F.size(F.col(\"immunizations\")) > 0\n",
        ").withColumn(\n",
        "    \"has_procedures\", F.size(F.col(\"procedures\")) > 0\n",
        ")\n",
        "#processed_data.select(\"insurance_filled\", \"has_immunizations\", \"has_procedures\").show()"
      ],
      "metadata": {
        "id": "wge1Us0Mbjlb"
      },
      "execution_count": null,
      "outputs": []
    },
    {
      "cell_type": "code",
      "source": [
        "average_data = processed_data.groupBy(\"insurance_filled\").agg(\n",
        "    F.avg(F.col(\"has_immunizations\").cast(\"int\")).alias(\"avg_immunizations\"),\n",
        "    F.avg(F.col(\"has_procedures\").cast(\"int\")).alias(\"avg_procedures\")\n",
        ")\n",
        "\n",
        "average_data.show()"
      ],
      "metadata": {
        "colab": {
          "base_uri": "https://localhost:8080/"
        },
        "id": "N70DCY05rQSe",
        "outputId": "d19cccab-0209-4e26-9964-beac8633ea92"
      },
      "execution_count": null,
      "outputs": [
        {
          "output_type": "stream",
          "name": "stdout",
          "text": [
            "+----------------+-------------------+------------------+\n",
            "|insurance_filled|avg_immunizations  |avg_procedures    |\n",
            "+----------------+-------------------+------------------+\n",
            "|Spouse          |0.29910714285714285|0.6964285714285714|\n",
            "|No Insurance    |0.29605263157894735|0.7894736842105263|\n",
            "|Self            |0.264669163545568  |0.714107365792759 |\n",
            "|Unknown         |0.4513888888888889 |0.8680555555555556|\n",
            "|Guardian        |0.24906367041198502|0.8389513108614233|\n",
            "+----------------+-------------------+------------------+\n",
            "\n"
          ]
        }
      ]
    },
    {
      "cell_type": "code",
      "source": [
        "correlation_data = processed_data.select(\n",
        "    F.when(F.col(\"insurance_filled\") == \"No Insurance\", 0).otherwise(1).alias(\"has_insurance\"),\n",
        "    F.col(\"has_immunizations\").cast(\"int\"),\n",
        "    F.col(\"has_procedures\").cast(\"int\")\n",
        ")\n",
        "#correlation_data.show()"
      ],
      "metadata": {
        "id": "6Ic_T0rxcPtg"
      },
      "execution_count": null,
      "outputs": []
    },
    {
      "cell_type": "code",
      "source": [
        "immunization_correlation = correlation_data.stat.corr(\"has_insurance\", \"has_immunizations\")\n",
        "procedure_correlation = correlation_data.stat.corr(\"has_insurance\", \"has_procedures\")\n",
        "\n",
        "print(f\"Correlation between insurance and immunizations: {immunization_correlation}\")\n",
        "print(f\"Correlation between insurance and procedures: {procedure_correlation}\")"
      ],
      "metadata": {
        "id": "TqbY9mZ7orHQ",
        "colab": {
          "base_uri": "https://localhost:8080/"
        },
        "outputId": "8c60847c-d79b-4164-bbc6-3eb71a8640d7"
      },
      "execution_count": null,
      "outputs": [
        {
          "output_type": "stream",
          "name": "stdout",
          "text": [
            "Correlation between insurance and immunizations: -0.001515394603296523\n",
            "Correlation between insurance and procedures: -0.011023566078812861\n"
          ]
        }
      ]
    },
    {
      "cell_type": "markdown",
      "source": [
        "Results:\n",
        "\n",
        "Since the correlation between insurance and immunizations and procedures are really close to 0, this suggests that there is no linear relationship between having insurance and the likelihood od recieving immunizations or procedures"
      ],
      "metadata": {
        "id": "3WqcuFMqssKM"
      }
    },
    {
      "cell_type": "markdown",
      "source": [
        "Independent group analysis 2:"
      ],
      "metadata": {
        "id": "NtuQXHmbf4_T"
      }
    },
    {
      "cell_type": "markdown",
      "source": [
        "This is examining the correlation between COVID-19, fever, fatigue, cough, and loss of taste. This is important because it allows the doctors to possibly test for COVID-19 if a patient comes in with these symptoms."
      ],
      "metadata": {
        "id": "6dBqekviCFdu"
      }
    },
    {
      "cell_type": "code",
      "execution_count": null,
      "metadata": {
        "id": "_FKYK2mUUIaS",
        "colab": {
          "base_uri": "https://localhost:8080/"
        },
        "outputId": "08d0bfd4-adca-4a6e-ae35-09a0b1963842"
      },
      "outputs": [
        {
          "output_type": "stream",
          "name": "stdout",
          "text": [
            "Correlation between COVID-19 and Fever\n",
            "0.7797634595534284\n",
            "Correlation between COVID-19 and Fatigue\n",
            "0.3514861086000061\n",
            "Correlation between COVID-19 and Cough\n",
            "0.5694435377895646\n",
            "Correlation between COVID-19 and Loss of Taste\n",
            "0.41991800994554784\n"
          ]
        }
      ],
      "source": [
        "# independent group analysis 2\n",
        "from pyspark.sql.functions import expr\n",
        "correlation_data = df.select(\n",
        "        expr(\"IF(EXISTS(conditions, x -> x.description = 'COVID-19'), 1, 0) AS covid\"),\n",
        "        expr(\"IF(EXISTS(conditions, x -> x.description = 'Fever (finding)'), 1, 0) AS fever\"),\n",
        "        expr(\"IF(EXISTS(conditions, x -> x.description = 'Fatigue (finding)'), 1, 0) AS fatigue\"),\n",
        "        expr(\"IF(EXISTS(conditions, x -> x.description = 'Cough (finding)'), 1, 0) AS cough\"),\n",
        "        expr(\"IF(EXISTS(conditions, x -> x.description = 'Loss of taste (finding)'), 1, 0) AS loss_of_taste\")\n",
        ")\n",
        "\n",
        "# Calculate correlation matrix\n",
        "covid_fever = correlation_data.stat.corr(\"covid\", \"fever\")\n",
        "covid_fatigue = correlation_data.stat.corr(\"covid\", \"fatigue\")\n",
        "covid_cough = correlation_data.stat.corr(\"covid\", \"cough\")\n",
        "covid_loss_of_taste = correlation_data.stat.corr(\"covid\", \"loss_of_taste\")\n",
        "\n",
        "print(\"Correlation between COVID-19 and Fever\")\n",
        "print(covid_fever)\n",
        "print(\"Correlation between COVID-19 and Fatigue\")\n",
        "print(covid_fatigue)\n",
        "print(\"Correlation between COVID-19 and Cough\")\n",
        "print(covid_cough)\n",
        "print(\"Correlation between COVID-19 and Loss of Taste\")\n",
        "print(covid_loss_of_taste)"
      ]
    },
    {
      "cell_type": "markdown",
      "source": [
        "We see that fever and covid-19 is most positively correlated, meaning that fever is often a symptom of having covid-19. The second most correlated one is cough, especially since covid-19 is a respiratory infection."
      ],
      "metadata": {
        "id": "38UGHlRzBzsY"
      }
    },
    {
      "cell_type": "markdown",
      "source": [
        "Independent group analysis 3:"
      ],
      "metadata": {
        "id": "eaXF6BhMf5Vx"
      }
    },
    {
      "cell_type": "markdown",
      "source": [
        "This is examining the top 10 immunizations. This is beneficial because it demonstrates the most common immunizations taken by people and helps inform policy decisions by hospitals and medical providers to encourage their patients to take certain immunizations."
      ],
      "metadata": {
        "id": "CFlmcgPkAr-w"
      }
    },
    {
      "cell_type": "code",
      "execution_count": null,
      "metadata": {
        "id": "--_mGECIUUEr",
        "colab": {
          "base_uri": "https://localhost:8080/"
        },
        "outputId": "b60ff7e5-2b5c-402f-a20b-6cb3e1076eab"
      },
      "outputs": [
        {
          "output_type": "stream",
          "name": "stdout",
          "text": [
            "+--------------------+-----+\n",
            "|         description|count|\n",
            "+--------------------+-----+\n",
            "|Influenza  season...|  550|\n",
            "|Td (adult) preser...|   57|\n",
            "|                DTaP|   44|\n",
            "|Pneumococcal conj...|   43|\n",
            "|                 IPV|   30|\n",
            "| meningococcal MCV4P|   25|\n",
            "|Hep B  adolescent...|   24|\n",
            "|       Hib (PRP-OMP)|   24|\n",
            "|   HPV  quadrivalent|   22|\n",
            "|        Hep A  adult|   21|\n",
            "+--------------------+-----+\n",
            "\n"
          ]
        }
      ],
      "source": [
        "# independent group analysis 3\n",
        "from pyspark.sql.functions import desc\n",
        "df = spark.read.json(parsed_notes)\n",
        "immunization_df = df.select(explode(col(\"immunizations\")).alias(\"immunization\"))\n",
        "\n",
        "# Extract the description column from the exploded immunization struct\n",
        "top_immunizations = (\n",
        "    immunization_df\n",
        "    .select(col(\"immunization.description\").alias(\"description\"))\n",
        "    .groupBy(\"description\")\n",
        "    .agg(count(\"*\").alias(\"count\"))\n",
        "    .orderBy(desc(\"count\"))\n",
        "    .limit(10)\n",
        ")\n",
        "\n",
        "# Show the result\n",
        "top_immunizations.show()"
      ]
    },
    {
      "cell_type": "markdown",
      "source": [
        "We see that the most common immunization is influenza shot with the second and third being related to tetanus."
      ],
      "metadata": {
        "id": "dl7zUXtGBjTu"
      }
    }
  ],
  "metadata": {
    "application/vnd.databricks.v1+notebook": {
      "dashboards": [],
      "environmentMetadata": null,
      "language": "python",
      "notebookMetadata": {
        "pythonIndentUnit": 2
      },
      "notebookName": "Assignment 2",
      "widgets": {}
    },
    "colab": {
      "provenance": []
    },
    "kernelspec": {
      "display_name": "Python 3",
      "language": "python",
      "name": "python3"
    },
    "language_info": {
      "codemirror_mode": {
        "name": "ipython",
        "version": 3
      },
      "file_extension": ".py",
      "mimetype": "text/x-python",
      "name": "python",
      "nbconvert_exporter": "python",
      "pygments_lexer": "ipython3",
      "version": "3.10.10"
    }
  },
  "nbformat": 4,
  "nbformat_minor": 0
}